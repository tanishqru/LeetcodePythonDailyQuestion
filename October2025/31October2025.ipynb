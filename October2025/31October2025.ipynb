{
 "cells": [
  {
   "cell_type": "markdown",
   "id": "513a24d9",
   "metadata": {},
   "source": [
    "### **3289. The Two Sneaky Numbers of Digitville**\n",
    "##### In the town of Digitville, there was a list of numbers called `nums` containing integers from `0` to `n - 1`. Each number was supposed to appear **exactly once** in the list, however, **two** mischievous numbers sneaked in an *additional time*, making the list longer than usual.\n",
    "\n",
    "##### As the town detective, your task is to find these two sneaky numbers. Return an array of size **two** containing the two numbers (in *any order*), so peace can return to Digitville.\n",
    "\n",
    "<br>\n",
    "\n",
    "**Example 1:**\n",
    "> **Input:** nums = [0,1,1,0] <br>\n",
    "> **Output:** [0,1] <br>\n",
    "> **Explanation:** <br>\n",
    "> The numbers 0 and 1 each appear twice in the array.\n",
    "\n",
    "**Example 2:**\n",
    "> **Input:** nums = [0,3,2,1,3,2] <br>\n",
    "> **Output:** [2,3] <br>\n",
    "> **Explanation:** <br>\n",
    "> The numbers 2 and 3 each appear twice in the array.\n",
    "\n",
    "**Example 3:**\n",
    "> **Input:** nums = [7,1,5,4,3,4,6,0,9,5,8,2] <br>\n",
    "> **Output:** [4,5] <br>\n",
    "> **Explanation:** <br>\n",
    "> The numbers 4 and 5 each appear twice in the array.\n",
    "\n",
    "<br>\n",
    "\n",
    "**Constraints:**\n",
    "- `2 <= n <= 100`\n",
    "- `nums.length == n + 2`\n",
    "- `0 <= nums[i] < n`\n",
    "- The input is generated such that `nums` contains **exactly** two repeated elements."
   ]
  },
  {
   "cell_type": "code",
   "execution_count": 1,
   "id": "0b8a1f1f",
   "metadata": {},
   "outputs": [
    {
     "name": "stdout",
     "output_type": "stream",
     "text": [
      "[1, 0]\n",
      "[3, 2]\n",
      "[4, 5]\n"
     ]
    }
   ],
   "source": [
    "# Code written in Python3\n",
    "from typing import List\n",
    "\n",
    "class Solution:\n",
    "    def getSneakyNumbers(self, nums: List[int]) -> List[int]:\n",
    "        res = []\n",
    "        count = {}\n",
    "        for x in nums:\n",
    "            count[x] = count.get(x, 0) + 1\n",
    "            if count[x] == 2:\n",
    "                res.append(x)\n",
    "        return res\n",
    "\n",
    "# Driver code to test the Solution class\n",
    "sol = Solution()\n",
    "\n",
    "# Example 1\n",
    "nums1 = [0,1,1,0]\n",
    "print(sol.getSneakyNumbers(nums1))\n",
    "\n",
    "# Example 2\n",
    "nums2 = [0,3,2,1,3,2]\n",
    "print(sol.getSneakyNumbers(nums2))\n",
    "\n",
    "# Example 3\n",
    "nums3 = [7,1,5,4,3,4,6,0,9,5,8,2]\n",
    "print(sol.getSneakyNumbers(nums3))"
   ]
  }
 ],
 "metadata": {
  "kernelspec": {
   "display_name": ".venv",
   "language": "python",
   "name": "python3"
  },
  "language_info": {
   "codemirror_mode": {
    "name": "ipython",
    "version": 3
   },
   "file_extension": ".py",
   "mimetype": "text/x-python",
   "name": "python",
   "nbconvert_exporter": "python",
   "pygments_lexer": "ipython3",
   "version": "3.13.7"
  }
 },
 "nbformat": 4,
 "nbformat_minor": 5
}
