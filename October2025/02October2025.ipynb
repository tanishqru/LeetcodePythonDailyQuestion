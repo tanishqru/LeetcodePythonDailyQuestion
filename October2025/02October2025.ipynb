{
 "cells": [
  {
   "cell_type": "markdown",
   "id": "fe1f1b7a",
   "metadata": {},
   "source": [
    "### **3100. Water Bottles II**\n",
    "##### You are given two integers `numBottles` and `numExchange`.\n",
    "\n",
    "##### `numBottles` represents the number of full water bottles that you initially have. In one operation, you can perform one of the following operations:\n",
    "\n",
    "##### - Drink any number of full water bottles turning them into empty bottles.\n",
    "\n",
    "##### - Exchange `numExchange` empty bottles with one full water bottle. Then, increase `numExchange` by one.\n",
    "\n",
    "##### Note that you cannot exchange multiple batches of empty bottles for the same value of `numExchange`. For example, if `numBottles == 3` and `numExchange == 1`, you cannot exchange `3` empty water bottles for `3` full bottles.\n",
    "\n",
    "##### Return *the **maximum** number of water bottles you can drink*.\n",
    "\n",
    "<br>\n",
    "\n",
    "**Example 1:**\n",
    "> **Input:** numBottles = 13, numExchange = 6 <br>\n",
    "> **Output:** 15 <br>\n",
    "> Explanation: The table above shows the number of full water bottles, empty water bottles, the value of numExchange, and the number of bottles drunk.\n",
    "\n",
    "**Example 2:**\n",
    "> **Input:** numBottles = 10, numExchange = 3 <br>\n",
    "> **Output:** 13 <br>\n",
    "> Explanation: The table above shows the number of full water bottles, empty water bottles, the value of numExchange, and the number of bottles drunk.\n",
    "\n",
    "<br>\n",
    "\n",
    "**Constraints:**\n",
    "- `1 <= numBottles <= 100`\n",
    "- `1 <= numExchange <= 100`\n",
    "\n"
   ]
  },
  {
   "cell_type": "code",
   "execution_count": 1,
   "id": "f530413f",
   "metadata": {},
   "outputs": [
    {
     "name": "stdout",
     "output_type": "stream",
     "text": [
      "15\n",
      "13\n"
     ]
    }
   ],
   "source": [
    "# Code written in Python3\n",
    "\n",
    "class Solution:\n",
    "    def maxBottlesDrunk(self, numBottles: int, numExchange: int) -> int:\n",
    "        ans = numBottles\n",
    "        empty = numBottles\n",
    "        while empty >= numExchange:\n",
    "            ans += 1\n",
    "            empty -= numExchange - 1\n",
    "            numExchange += 1\n",
    "        return ans\n",
    "\n",
    "# Driver code to test the Solution class\n",
    "sol = Solution()\n",
    "print(sol.maxBottlesDrunk(13, 6))\n",
    "print(sol.maxBottlesDrunk(10, 3))"
   ]
  }
 ],
 "metadata": {
  "kernelspec": {
   "display_name": ".venv",
   "language": "python",
   "name": "python3"
  },
  "language_info": {
   "codemirror_mode": {
    "name": "ipython",
    "version": 3
   },
   "file_extension": ".py",
   "mimetype": "text/x-python",
   "name": "python",
   "nbconvert_exporter": "python",
   "pygments_lexer": "ipython3",
   "version": "3.13.7"
  }
 },
 "nbformat": 4,
 "nbformat_minor": 5
}
