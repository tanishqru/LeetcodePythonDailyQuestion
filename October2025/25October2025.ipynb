{
 "cells": [
  {
   "cell_type": "markdown",
   "id": "092e8c65",
   "metadata": {},
   "source": [
    "### **1716. Calculate Money in Leetcode Bank**\n",
    "##### Hercy wants to save money for his first car. He puts money in the Leetcode bank **every day**.\n",
    "\n",
    "##### He starts by putting in `$1` on Monday, the first day. Every day from Tuesday to Sunday, he will put in `$1` more than the day before. On every subsequent Monday, he will put in `$1` more than the **previous Monday**.\n",
    "\n",
    "##### Given `n`, return *the total amount of money he will have in the Leetcode bank at the end of the* $n^{th}$ *day*.\n",
    "\n",
    "<br>\n",
    "\n",
    "**Example 1:**\n",
    "> **Input:** n = 4 <br>\n",
    "> **Output:** 10 <br>\n",
    "> **Explanation:** After the $4^{th}$ day, the total is 1 + 2 + 3 + 4 = 10.\n",
    "\n",
    "**Example 2:**\n",
    "> **Input:** n = 10 <br>\n",
    "> **Output:** 37 <br>\n",
    "> **Explanation:** After the $10^{th}$ day, the total is (1 + 2 + 3 + 4 + 5 + 6 + 7) + (2 + 3 + 4) = 37. Notice that on the $2^{nd}$ Monday, Hercy only puts in $2.\n",
    "\n",
    "**Example 3:**\n",
    "> **Input:** n = 20 <br>\n",
    "> **Output:** 96 <br>\n",
    "> **Explanation:** After the $20^{th}$ day, the total is (1 + 2 + 3 + 4 + 5 + 6 + 7) + (2 + 3 + 4 + 5 + 6 + 7 + 8) + (3 + 4 + 5 + 6 + 7 + 8) = 96.\n",
    "\n",
    "<br>\n",
    "\n",
    "**Constraints:**\n",
    "- `1 <= n <= 1000`"
   ]
  },
  {
   "cell_type": "code",
   "execution_count": 1,
   "id": "27f5ef74",
   "metadata": {},
   "outputs": [
    {
     "name": "stdout",
     "output_type": "stream",
     "text": [
      "10\n",
      "37\n",
      "96\n"
     ]
    }
   ],
   "source": [
    "# Code written in Python3\n",
    "\n",
    "class Solution:\n",
    "    def totalMoney(self, n: int) -> int:\n",
    "        ans = 0\n",
    "        monday = 1\n",
    "        \n",
    "        while n > 0:\n",
    "            for day in range(min(n, 7)):\n",
    "                ans += monday + day\n",
    "            \n",
    "            n -= 7\n",
    "            monday += 1\n",
    "\n",
    "        return ans\n",
    "\n",
    "# Driver code to test the Solution class\n",
    "sol = Solution()\n",
    "\n",
    "# Example 1\n",
    "print(sol.totalMoney(4))\n",
    "\n",
    "# Example 2\n",
    "print(sol.totalMoney(10))\n",
    "\n",
    "# Example 3\n",
    "print(sol.totalMoney(20))"
   ]
  }
 ],
 "metadata": {
  "kernelspec": {
   "display_name": ".venv",
   "language": "python",
   "name": "python3"
  },
  "language_info": {
   "codemirror_mode": {
    "name": "ipython",
    "version": 3
   },
   "file_extension": ".py",
   "mimetype": "text/x-python",
   "name": "python",
   "nbconvert_exporter": "python",
   "pygments_lexer": "ipython3",
   "version": "3.13.7"
  }
 },
 "nbformat": 4,
 "nbformat_minor": 5
}
