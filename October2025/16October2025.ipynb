{
 "cells": [
  {
   "cell_type": "markdown",
   "id": "be585232",
   "metadata": {},
   "source": [
    "### **2598. Smallest Missing Non-negative Integer After Operations**\n",
    "##### You are given a **0-indexed** integer array `nums` and an integer `value`.\n",
    "\n",
    "##### In one operation, you can add or subtract `value` from any element of `nums`.\n",
    "\n",
    "##### - For example, if `nums = [1,2,3]` and `value = 2`, you can choose to subtract `value` from `nums[0]` to make `nums = [-1,2,3]`.\n",
    "\n",
    "##### The MEX (minimum excluded) of an array is the smallest missing **non-negative** integer in it.\n",
    "\n",
    "##### - For example, the MEX of `[-1,2,3]` is `0` while the MEX of `[1,0,3]` is `2`.\n",
    "\n",
    "##### Return *the maximum MEX of* `nums` *after applying the mentioned operation **any number of times***.\n",
    "\n",
    "<br>\n",
    "\n",
    "**Example 1:**\n",
    "> **Input:** nums = [1,-10,7,13,6,8], value = 5 <br>\n",
    "> **Output:** 4 <br>\n",
    "> **Explanation:** One can achieve this result by applying the following operations: <br>\n",
    "> - Add value to nums[1] twice to make nums = [1,<u>**0**</u>,7,13,6,8] <br>\n",
    "> - Subtract value from nums[2] once to make nums = [1,0,<u>**2**</u>,13,6,8]<br>\n",
    "> - Subtract value from nums[3] twice to make nums = [1,0,2,<u>**3**</u>,6,8] <br>\n",
    "> The MEX of nums is 4. It can be shown that 4 is the maximum MEX we can achieve.\n",
    "\n",
    "**Example 2:**\n",
    "> **Input:** nums = [1,-10,7,13,6,8], value = 7 <br>\n",
    "> **Output:** 2 <br>\n",
    "> **Explanation:** One can achieve this result by applying the following operation: <br>\n",
    "> - subtract value from nums[2] once to make nums = [1,-10,<u>**0**</u>,13,6,8] <br>\n",
    "> The MEX of nums is 2. It can be shown that 2 is the maximum MEX we can achieve.\n",
    "\n",
    "<br> \n",
    "\n",
    "**Constraints:**\n",
    "- `1 <= nums.length, value <= 10^5`\n",
    "- `-10^9 <= nums[i] <= 10^9`"
   ]
  },
  {
   "cell_type": "code",
   "execution_count": 1,
   "id": "69ef83ea",
   "metadata": {},
   "outputs": [
    {
     "name": "stdout",
     "output_type": "stream",
     "text": [
      "4\n",
      "2\n"
     ]
    }
   ],
   "source": [
    "# Code written in Python3\n",
    "from collections import Counter\n",
    "from typing import List\n",
    "\n",
    "class Solution:\n",
    "    def findSmallestInteger(self, nums: List[int], value: int) -> int:\n",
    "        mp = Counter(x % value for x in nums)\n",
    "        mex = 0\n",
    "        while mp[mex % value] > 0:\n",
    "            mp[mex % value] -= 1\n",
    "            mex += 1\n",
    "        return mex\n",
    "\n",
    "# Driver code to test the Solution class\n",
    "sol = Solution()\n",
    "\n",
    "# Example 1\n",
    "nums1 = [1, -10, 7, 13, 6, 8]\n",
    "value1 = 5\n",
    "print(sol.findSmallestInteger(nums1, value1))\n",
    "\n",
    "# Example 2\n",
    "nums2 = [1, -10, 7, 13, 6, 8]\n",
    "value2 = 7\n",
    "print(sol.findSmallestInteger(nums2, value2))"
   ]
  }
 ],
 "metadata": {
  "kernelspec": {
   "display_name": ".venv",
   "language": "python",
   "name": "python3"
  },
  "language_info": {
   "codemirror_mode": {
    "name": "ipython",
    "version": 3
   },
   "file_extension": ".py",
   "mimetype": "text/x-python",
   "name": "python",
   "nbconvert_exporter": "python",
   "pygments_lexer": "ipython3",
   "version": "3.13.7"
  }
 },
 "nbformat": 4,
 "nbformat_minor": 5
}
