{
 "cells": [
  {
   "cell_type": "markdown",
   "id": "e0c9d196",
   "metadata": {},
   "source": [
    "### **Minimum Number of Increments on Subarrays to Form a Target Array**\n",
    "##### You are given an integer array `target`. You have an integer array `initial` of the same size as `target` with all elements initially zeros.\n",
    "\n",
    "##### In one operation you can choose any subarray from `initial` and increment each value by one.\n",
    "\n",
    "##### Return *the minimum number of operations to form a* `target` *array from* `initial`.\n",
    "\n",
    "##### The test cases are generated so that the answer fits in a 32-bit integer.\n",
    "\n",
    "<br>\n",
    "\n",
    "**Example 1:**\n",
    "> **Input:** target = [1,2,3,2,1] <br>\n",
    "> **Output:** 3 <br>\n",
    "> **Explanation:** We need at least 3 operations to form the target array from the initial array. <br>\n",
    "> [<u>**0**</u>,<u>**0**</u>,<u>**0**</u>,<u>**0**</u>,<u>**0**</u>] increment 1 from index 0 to 4 (inclusive). <br>\n",
    "> [1,<u>**1**</u>,<u>**1**</u>,<u>**1**</u>,1] increment 1 from index 1 to 3 (inclusive). <br>\n",
    "> [1,2,<u>**2**</u>,2,1] increment 1 at index 2. <br>\n",
    "> [1,2,3,2,1] target array is formed.\n",
    "\n",
    "**Example 2:**\n",
    "> **Input:** target = [3,1,1,2] <br>\n",
    "> **Output:** 4 <br>\n",
    "> **Explanation:** [<u>**0**</u>,<u>**0**</u>,<u>**0**</u>,<u>**0**</u>] -> [1,1,1,<u>**1**</u>] -> [<u>**1**</u>,1,1,2] -> [<u>**2**</u>,1,1,2] -> [3,1,1,2]\n",
    "\n",
    "**Example 3:**\n",
    "> **Input:** target = [3,1,5,4,2] <br>\n",
    "> **Output:** 7 <br>\n",
    "> **Explanation:** [<u>**0**</u>,<u>**0**</u>,<u>**0**</u>,<u>**0**</u>,<u>**0**</u>] -> [<u>**1**</u>,1,1,1,1] -> [<u>**2**</u>,1,1,1,1] -> [3,1,<u>**1**</u>,<u>**1**</u>,<u>**1**</u>] -> [3,1,<u>**2**</u>,<u>**2**</u>,2] -> [3,1,<u>**3**</u>,<u>**3**</u>,2] -> [3,1,<u>**4**</u>,4,2] -> [3,1,5,4,2].\n",
    "\n",
    "<br>\n",
    "\n",
    "**Constraints:**\n",
    "- `1 <= target.length <= 10^5`\n",
    "- `1 <= target[i] <= 10^5`"
   ]
  },
  {
   "cell_type": "code",
   "execution_count": 1,
   "id": "d55ce82c",
   "metadata": {},
   "outputs": [
    {
     "name": "stdout",
     "output_type": "stream",
     "text": [
      "3\n",
      "4\n",
      "7\n"
     ]
    }
   ],
   "source": [
    "# Code written in Python3\n",
    "from typing import List\n",
    "\n",
    "class Solution:\n",
    "    def minNumberOperations(self, target: List[int]) -> int:\n",
    "        n = len(target)\n",
    "        ans = target[0]\n",
    "        for i in range(1, n):\n",
    "            ans += max(target[i] - target[i - 1], 0)\n",
    "        return ans\n",
    "\n",
    "# Driver code to test the Solution class\n",
    "sol = Solution()\n",
    "\n",
    "# Example 1\n",
    "print(sol.minNumberOperations([1, 2, 3, 2, 1]))\n",
    "\n",
    "# Example 2\n",
    "print(sol.minNumberOperations([3, 1, 1, 2]))\n",
    "\n",
    "# Example 3\n",
    "print(sol.minNumberOperations([3, 1, 5, 4, 2]))"
   ]
  }
 ],
 "metadata": {
  "kernelspec": {
   "display_name": ".venv",
   "language": "python",
   "name": "python3"
  },
  "language_info": {
   "codemirror_mode": {
    "name": "ipython",
    "version": 3
   },
   "file_extension": ".py",
   "mimetype": "text/x-python",
   "name": "python",
   "nbconvert_exporter": "python",
   "pygments_lexer": "ipython3",
   "version": "3.13.7"
  }
 },
 "nbformat": 4,
 "nbformat_minor": 5
}
