{
 "cells": [
  {
   "cell_type": "markdown",
   "id": "f68d42e0",
   "metadata": {},
   "source": [
    "### **3354. Make Array Elements Equal to Zero**\n",
    "##### Yuo are given an integer array `nums`.\n",
    "\n",
    "##### Start by selecting a starting position `curr` such that `nums[curr] == 0`, and choose a movement **direction** of either left or right.\n",
    "\n",
    "##### After that, you repeat the following process:\n",
    "\n",
    "##### • if `curr` is out of the range `[0, n - 1]`, this process ends.\n",
    "\n",
    "##### • If `nums[curr] == 0`, move in the current direction by **incrementing** `curr` if you are moving right, or **decrementing** `curr` if you are moving left.\n",
    "\n",
    "##### • Else if `nums[curr] > 0`:\n",
    "\n",
    "##### --- Decrement `nums[curr]` by 1.\n",
    "\n",
    "##### --- **Reverse** your movement direction (left becomes right and vice versa).\n",
    "\n",
    "##### --- Take a step in your new direction.\n",
    "\n",
    "##### A selection of the initial position `curr` and movement direction is considered valid if every element in `nums` becomes 0 by the end of the process.\n",
    "\n",
    "##### Return the number of possible **valid** selections.\n",
    "\n",
    "<br>\n",
    "\n",
    "**Example 1:**\n",
    "> **Input:** nums = [1,0,2,0,3] <br>\n",
    "> **Output:** 2 <br>\n",
    "> **Explanation:** <br>\n",
    "> The only possible valid selections are the following: <br>\n",
    "> • Choose `curr = 3`, and a movement direction to the left. <br>\n",
    "> --- [1,0,2,<u>**0**</u>,3] -> [1,0,<u>**2**</u>,0,3] -> [1,0,1,<u>**0**</u>,3] -> [1,0,1,0,<u>**3**</u>] -> [1,0,1,<u>**0**</u>,2] -> [1,0,<u>**1**</u>,0,2] -> [1,0,0,<u>**0**</u>,2] -> [1,0,0,0,<u>**2**</u>] -> [1,0,0,<u>**0**</u>,1] -> [1,0,<u>**0**</u>,0,1] -> [1,<u>**0**</u>,0,0,1] -> [<u>**1**</u>,0,0,0,1] -> [0,<u>**0**</u>,0,0,1] -> [0,0,<u>**0**</u>,0,1] -> [0,0,0,<u>**0**</u>,1] -> [0,0,0,0,<u>**1**</u>] -> [0,0,0,0,0]. <br>\n",
    "> • Choose `curr = 3`, and a movement direction to the right. <br>\n",
    "> --- [1,0,2,<u>**0**</u>,3] -> [1,0,2,0,<u>**3**</u>] -> [1,0,2,<u>**0**</u>,2] -> [1,0,<u>**2**</u>,0,2] -> [1,0,1,<u>**0**</u>,2] -> [1,0,1,0,<u>**2**</u>] -> [1,0,1,<u>**0**</u>,1] -> [1,0,<u>**1**</u>,0,1] -> [1,0,0,<u>**0**</u>,1] -> [1,0,0,0,<u>**1**</u>] -> [1,0,0,<u>**0**</u>,0] -> [1,0,<u>**0**</u>,0,0] -> [1,<u>**0**</u>,0,0,0] -> [<u>**1**</u>,0,0,0,0] -> [0,0,0,0,0].\n",
    "\n",
    "**Example 2:**\n",
    "> **Input:** nums = [2,3,4,0,4,1,0] <br>\n",
    "> **Output:** 0 <br>\n",
    "> **Explanation:** <br>\n",
    "> There are no possible valid selections.\n",
    "\n",
    "<br>\n",
    "\n",
    "**Constraints:**\n",
    "- `1 <= nums.length <= 100`\n",
    "- `0 <= nums[i] <= 100`\n",
    "- There is at least one element `i` where `nums[i] == 0`."
   ]
  },
  {
   "cell_type": "code",
   "execution_count": 1,
   "id": "6485157c",
   "metadata": {},
   "outputs": [
    {
     "name": "stdout",
     "output_type": "stream",
     "text": [
      "2\n",
      "0\n"
     ]
    }
   ],
   "source": [
    "# Code written in Python3\n",
    "\n",
    "class Solution:\n",
    "    def countValidSelections(self, nums):\n",
    "        count = 0\n",
    "        nonZeros = sum(1 for x in nums if x > 0)\n",
    "        n = len(nums)\n",
    "        for i in range(n):\n",
    "            if nums[i] == 0:\n",
    "                if self.isValid(nums, nonZeros, i, -1):\n",
    "                    count += 1\n",
    "                if self.isValid(nums, nonZeros, i, 1):\n",
    "                    count += 1\n",
    "        return count\n",
    "\n",
    "    def isValid(self, nums, nonZeros, start, direction):\n",
    "        temp = nums[:]\n",
    "        curr = start\n",
    "        while nonZeros > 0 and 0 <= curr < len(nums):\n",
    "            if temp[curr] > 0:\n",
    "                temp[curr] -= 1\n",
    "                direction *= -1\n",
    "                if temp[curr] == 0:\n",
    "                    nonZeros -= 1\n",
    "            curr += direction\n",
    "        return nonZeros == 0\n",
    "\n",
    "# Driver code to test the Solution class\n",
    "sol = Solution()\n",
    "\n",
    "# Example 1\n",
    "nums1 = [1, 0, 2, 0, 3]\n",
    "print(sol.countValidSelections(nums1))\n",
    "\n",
    "# Example 2\n",
    "nums2 = [2, 3, 4, 0, 4, 1, 0]\n",
    "print(sol.countValidSelections(nums2))"
   ]
  }
 ],
 "metadata": {
  "kernelspec": {
   "display_name": ".venv",
   "language": "python",
   "name": "python3"
  },
  "language_info": {
   "codemirror_mode": {
    "name": "ipython",
    "version": 3
   },
   "file_extension": ".py",
   "mimetype": "text/x-python",
   "name": "python",
   "nbconvert_exporter": "python",
   "pygments_lexer": "ipython3",
   "version": "3.13.7"
  }
 },
 "nbformat": 4,
 "nbformat_minor": 5
}
