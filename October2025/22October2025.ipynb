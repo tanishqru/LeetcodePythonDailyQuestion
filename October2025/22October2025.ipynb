{
 "cells": [
  {
   "cell_type": "markdown",
   "id": "79252d23",
   "metadata": {},
   "source": [
    "### **3347. Maximum Frequency of an Element After Performing Operations II**\n",
    "##### You are given an integer array `nums` and two integers `k` and `numOperations`.\n",
    "\n",
    "##### You must perform an **operation** `numOperations` times on `nums`, where in each operation you:\n",
    "\n",
    "##### • Select an index `i` that was **not** selected in any previous operations.\n",
    "\n",
    "##### • Add an integer in the range `[-k, k]` to `nums[i]`.\n",
    "\n",
    "##### Return the **maximum** possible frequency of any element in `nums` after performing the **operations**.\n",
    "\n",
    "<br>\n",
    "\n",
    "**Example 1:**\n",
    "> **Input:** nums = [1,4,5], k = 1, numOperations = 2 <br>\n",
    "> **Output:** 2 <br>\n",
    "> **Explanation:** <br>\n",
    "> We can achieve a maximum frequency of two by: <br>\n",
    "> • Adding 0 to `nums[1]`, after which `nums` becomes `[1, 4, 5]`. <br>\n",
    "> • Adding -1 to `nums[2]`, after which `nums` becomes `[1, 4, 4]`.\n",
    "\n",
    "**Example 2:**\n",
    "> **Input:** nums = [5,11,20,20], k = 5, numOperations = 1 <br>\n",
    "> **Output:** 2 <br>\n",
    "> **Explanation:** <br>\n",
    "> We can achieve a maximum frequency of two by: <br>\n",
    "> • Adding 0 to `nums[1]`.\n",
    "\n",
    "<br>\n",
    "\n",
    "**Constraints:**\n",
    "- `1 <= nums.length <= 10^5`\n",
    "- `1 <= nums[i] <= 10^9`\n",
    "- `0 <= k <= 10^9`\n",
    "- `0 <= numOperations <= nums.length`"
   ]
  },
  {
   "cell_type": "code",
   "execution_count": 1,
   "id": "67ae7c13",
   "metadata": {},
   "outputs": [
    {
     "name": "stdout",
     "output_type": "stream",
     "text": [
      "2\n",
      "2\n"
     ]
    }
   ],
   "source": [
    "# Code written in Python3\n",
    "from typing import List\n",
    "import bisect\n",
    "from collections import defaultdict\n",
    "\n",
    "class Solution:\n",
    "    def maxFrequency(self, nums: List[int], k: int, numOperations: int) -> int:\n",
    "        nums.sort()\n",
    "        ans = 0\n",
    "        num_count = defaultdict(int)\n",
    "        modes = set()\n",
    "\n",
    "        def add_mode(value):\n",
    "            modes.add(value)\n",
    "            if value - k >= nums[0]:\n",
    "                modes.add(value - k)\n",
    "            if value + k <= nums[-1]:\n",
    "                modes.add(value + k)\n",
    "\n",
    "        last_num_index = 0\n",
    "        for i in range(len(nums)):\n",
    "            if nums[i] != nums[last_num_index]:\n",
    "                num_count[nums[last_num_index]] = i - last_num_index\n",
    "                ans = max(ans, i - last_num_index)\n",
    "                add_mode(nums[last_num_index])\n",
    "                last_num_index = i\n",
    "\n",
    "        num_count[nums[last_num_index]] = len(nums) - last_num_index\n",
    "        ans = max(ans, len(nums) - last_num_index)\n",
    "        add_mode(nums[last_num_index])\n",
    "\n",
    "        for mode in sorted(modes):\n",
    "            l = bisect.bisect_left(nums, mode - k)\n",
    "            r = bisect.bisect_right(nums, mode + k) - 1\n",
    "            if mode in num_count:\n",
    "                temp_ans = min(r - l + 1, num_count[mode] + numOperations)\n",
    "            else:\n",
    "                temp_ans = min(r - l + 1, numOperations)\n",
    "            ans = max(ans, temp_ans)\n",
    "\n",
    "        return ans\n",
    "\n",
    "# Driver code to test the Solution class\n",
    "sol = Solution()\n",
    "\n",
    "# Example 1\n",
    "print(sol.maxFrequency([1, 4, 5], 1, 2))\n",
    "\n",
    "# Example 2\n",
    "print(sol.maxFrequency([5, 11, 20, 20], 5, 1))"
   ]
  }
 ],
 "metadata": {
  "kernelspec": {
   "display_name": ".venv",
   "language": "python",
   "name": "python3"
  },
  "language_info": {
   "codemirror_mode": {
    "name": "ipython",
    "version": 3
   },
   "file_extension": ".py",
   "mimetype": "text/x-python",
   "name": "python",
   "nbconvert_exporter": "python",
   "pygments_lexer": "ipython3",
   "version": "3.13.7"
  }
 },
 "nbformat": 4,
 "nbformat_minor": 5
}
