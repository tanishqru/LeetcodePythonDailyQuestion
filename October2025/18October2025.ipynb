{
 "cells": [
  {
   "cell_type": "markdown",
   "id": "f2ac228e",
   "metadata": {},
   "source": [
    "### **3397. Maximum Number of Distinct Elements After Operations**\n",
    "##### You are given an integer array `nums` and an integer `k`.\n",
    "\n",
    "##### You are allowed to perform the following **operation** on each element of the array **at most** *once*:\n",
    "\n",
    "##### • Add an integer in the range `[-k, k]` to the element.\n",
    "\n",
    "##### Return the **maximum** possible number of **distinct** elements in `nums` after performing the **operations**.\n",
    "\n",
    "<br>\n",
    "\n",
    "**Example 1:**\n",
    "> **Input:** nums = [1,2,2,3,3,4], k = 2 <br>\n",
    "> **Output:** 6 <br>\n",
    "> **Explanation:** <br>\n",
    "> `nums` changes to `[-1, 0, 1, 2, 3, 4]` after performing operations on the first four elements.\n",
    "\n",
    "**Example 2:**\n",
    "> **Input:** nums = [4,4,4,4], k = 1 <br>\n",
    "> **Output:** 3 <br>\n",
    "> **Explanation:** <br>\n",
    "> By adding -1 to `nums[0]` and 1 to `nums[1]`, `nums` changes to `[3, 5, 4, 4]`.\n",
    "\n",
    "<br>\n",
    "\n",
    "**Constraints:**\n",
    "- `1 <= nums.length <= 10^5`\n",
    "- `1 <= nums[i] <= 10^9`\n",
    "- `0 <= k <= 10^9`"
   ]
  },
  {
   "cell_type": "code",
   "execution_count": 1,
   "id": "f16b3276",
   "metadata": {},
   "outputs": [
    {
     "name": "stdout",
     "output_type": "stream",
     "text": [
      "6\n",
      "3\n"
     ]
    }
   ],
   "source": [
    "# Code written in Python3\n",
    "import math\n",
    "from typing import List\n",
    "\n",
    "class Solution:\n",
    "    def maxDistinctElements(self, nums: List[int], k: int) -> int:\n",
    "        nums.sort()\n",
    "\n",
    "        cnt = 0\n",
    "        prev = -math.inf\n",
    "\n",
    "        for num in nums:\n",
    "            curr = min(max(num - k, prev + 1), num + k)\n",
    "            if curr > prev:\n",
    "                cnt += 1\n",
    "                prev = curr\n",
    "\n",
    "        return cnt\n",
    "\n",
    "# Driver code to test the Solution class\n",
    "sol = Solution()\n",
    "\n",
    "# Example 1\n",
    "nums1 = [1, 2, 2, 3, 3, 4]\n",
    "k1 = 2\n",
    "print(sol.maxDistinctElements(nums1, k1))\n",
    "\n",
    "# Example 2\n",
    "nums2 = [4, 4, 4, 4]\n",
    "k2 = 1\n",
    "print(sol.maxDistinctElements(nums2, k2))"
   ]
  }
 ],
 "metadata": {
  "kernelspec": {
   "display_name": ".venv",
   "language": "python",
   "name": "python3"
  },
  "language_info": {
   "codemirror_mode": {
    "name": "ipython",
    "version": 3
   },
   "file_extension": ".py",
   "mimetype": "text/x-python",
   "name": "python",
   "nbconvert_exporter": "python",
   "pygments_lexer": "ipython3",
   "version": "3.13.7"
  }
 },
 "nbformat": 4,
 "nbformat_minor": 5
}
