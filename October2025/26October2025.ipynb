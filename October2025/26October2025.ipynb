{
 "cells": [
  {
   "cell_type": "markdown",
   "id": "1e6e98e6",
   "metadata": {},
   "source": [
    "### **2043. Simple Bank System**\n",
    "##### You have been tasked with writing a program for a popular bank that will automate all its incoming transactions (transfer, deposit, and withdraw). The bank has `n` accounts numbered from `1` to `n`. The initial balance of each account is stored in a **0-indexed integer** array `balance`, with the $(i + 1)^{th}$ account having an initial balance of `balance[i]`.\n",
    "\n",
    "##### Execute all the **valid** transactions. A transaction is **valid** if:\n",
    "\n",
    "##### • The given account number(s) are between `1` and `n`, and\n",
    "\n",
    "##### • The amount of money withdrawn or transferred from is **less than or equal** to the balance of the account.\n",
    "\n",
    "##### Implement the `Bank` class:\n",
    "\n",
    "##### • `Bank(long[] balance)` Initializes the object with the **0-indexed** integer array `balance`.\n",
    "\n",
    "##### • `boolean transfer(int account1, int account2, long money)` Transfers `money` dollars from the account numbered `account1` to the account numbered `account2`. Return `true` if the transaction was successful, `false` otherwise.\n",
    "\n",
    "##### • `boolean deposit(int account, long money)` Deposit `money` dollars into the account numbered `account`. Return `true` if the transaction was successful, `false` otherwise.\n",
    "\n",
    "##### • `boolean withdraw(int account, long money)` Withdraw `money` dollars from the account numbered `account`. Return `true` if the transaction was successful, `false` otherwise.\n",
    "\n",
    "<br>\n",
    "\n",
    "**Example 1:**\n",
    "> **Input:** <br>\n",
    "> [\"Bank\", \"withdraw\", \"transfer\", \"deposit\", \"transfer\", \"withdraw\"] <br>\n",
    "> [[[10, 100, 20, 50, 30]], [3, 10], [5, 1, 20], [5, 20], [3, 4, 15], [10, 50]] <br>\n",
    "> **Output:** <br>\n",
    "> [null, true, true, true, false, false] <br>\n",
    "> **Explanation:** <br>\n",
    "> Bank bank = new Bank([10, 100, 20, 50, 30]); <br>\n",
    "> bank.withdraw(3, 10);    // return true, account 3 has a balance of $20, so it is valid to withdraw $10. <br>\n",
    ">                          // Account 3 has $20 - $10 = $10. <br>\n",
    "> bank.transfer(5, 1, 20); // return true, account 5 has a balance of $30, so it is valid to transfer $20. <br>\n",
    ">                          // Account 5 has $30 - $20 = $10, and account 1 has $10 + $20 = $30. <br>\n",
    "> bank.deposit(5, 20);     // return true, it is valid to deposit $20 to account 5. <br>\n",
    ">                          // Account 5 has $10 + $20 = $30. <br>\n",
    "> bank.transfer(3, 4, 15); // return false, the current balance of account 3 is $10, <br>\n",
    ">                          // so it is invalid to transfer $15 from it. <br>\n",
    "> bank.withdraw(10, 50);   // return false, it is invalid because account 10 does not exist.\n",
    "\n",
    "<br>\n",
    "\n",
    "**Constraints:**\n",
    "- `n == balance.length`\n",
    "- `1 <= n, account, account1, account2 <= 10^5`\n",
    "- `0 <= balance[i], money <= 10^12`\n",
    "- At most $10^4$ calls will be made to **each** function `transfer`, `deposit`, `withdraw`."
   ]
  },
  {
   "cell_type": "code",
   "execution_count": 1,
   "id": "8e78971f",
   "metadata": {},
   "outputs": [
    {
     "name": "stdout",
     "output_type": "stream",
     "text": [
      "True\n",
      "True\n",
      "True\n",
      "False\n",
      "False\n"
     ]
    }
   ],
   "source": [
    "# Code written in Python3\n",
    "from typing import List\n",
    "\n",
    "class Bank:\n",
    "    def __init__(self, balance: List[int]):\n",
    "        self.balance = balance\n",
    "\n",
    "    def transfer(self, account1: int, account2: int, money: int) -> bool:\n",
    "        if (\n",
    "            account1 > len(self.balance)\n",
    "            or account2 > len(self.balance)\n",
    "            or self.balance[account1 - 1] < money\n",
    "        ):\n",
    "            return False\n",
    "        self.balance[account1 - 1] -= money\n",
    "        self.balance[account2 - 1] += money\n",
    "        return True\n",
    "\n",
    "    def deposit(self, account: int, money: int) -> bool:\n",
    "        if account > len(self.balance):\n",
    "            return False\n",
    "        self.balance[account - 1] += money\n",
    "        return True\n",
    "\n",
    "    def withdraw(self, account: int, money: int) -> bool:\n",
    "        if account > len(self.balance) or self.balance[account - 1] < money:\n",
    "            return False\n",
    "        self.balance[account - 1] -= money\n",
    "        return True\n",
    "\n",
    "# Driver code to test the Solution class\n",
    "# Example 1\n",
    "bank = Bank([10, 100, 20, 50, 30])\n",
    "print(bank.withdraw(3, 10))\n",
    "print(bank.transfer(5, 1, 20))\n",
    "print(bank.deposit(5, 20))\n",
    "print(bank.transfer(3, 4, 15))\n",
    "print(bank.withdraw(10, 50))"
   ]
  }
 ],
 "metadata": {
  "kernelspec": {
   "display_name": ".venv",
   "language": "python",
   "name": "python3"
  },
  "language_info": {
   "codemirror_mode": {
    "name": "ipython",
    "version": 3
   },
   "file_extension": ".py",
   "mimetype": "text/x-python",
   "name": "python",
   "nbconvert_exporter": "python",
   "pygments_lexer": "ipython3",
   "version": "3.13.7"
  }
 },
 "nbformat": 4,
 "nbformat_minor": 5
}
