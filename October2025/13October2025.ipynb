{
 "cells": [
  {
   "cell_type": "markdown",
   "id": "fa19b88c",
   "metadata": {},
   "source": [
    "### **2273. Find Resultant Array After Removing Anagrams**\n",
    "##### You are given a **0-indexed** string array `words`, where `words[i]` consists of lowercase English letters.\n",
    "\n",
    "##### In one operation, select any index `i` such that `0 < i < words.length` and `words[i - 1]` and `words[i]` are **anagrams**, and **delete** `words[i]` from `words`. Keep performing this operation as long as you can select an index that satisfies the conditions.\n",
    "\n",
    "##### Return `words` *after performing all operations*. It can be shown that selecting the indices for each operation in **any** arbitrary order will lead to the same result.\n",
    "\n",
    "##### An **Anagram** is a word or phrase formed by rearranging the letters of a different word or phrase using all the original letters exactly once. For example, `\"dacb\"` is an anagram of `\"abdc\"`.\n",
    "\n",
    "<br>\n",
    "\n",
    "**Example 1:**\n",
    "> **Input:** words = [\"abba\",\"baba\",\"bbaa\",\"cd\",\"cd\"] <br>\n",
    "> **Output:** [\"abba\",\"cd\"] <br>\n",
    "> **Explanation:** <br>\n",
    "> One of the ways we can obtain the resultant array is by using the following operations: <br>\n",
    "> - Since words[2] = \"bbaa\" and words[1] = \"baba\" are anagrams, we choose index 2 and delete words[2]. <br>\n",
    ">   Now words = [\"abba\",\"baba\",\"cd\",\"cd\"]. <br>\n",
    "> - Since words[1] = \"baba\" and words[0] = \"abba\" are anagrams, we choose index 1 and delete words[1]. <br>\n",
    ">   Now words = [\"abba\",\"cd\",\"cd\"]. <br>\n",
    "> - Since words[2] = \"cd\" and words[1] = \"cd\" are anagrams, we choose index 2 and delete words[2]. <br>\n",
    ">   Now words = [\"abba\",\"cd\"]. <br>\n",
    "> We can no longer perform any operations, so [\"abba\",\"cd\"] is the final answer.\n",
    "\n",
    "**Example 2:**\n",
    "> **Input:** words = [\"a\",\"b\",\"c\",\"d\",\"e\"] <br>\n",
    "> **Output:** [\"a\",\"b\",\"c\",\"d\",\"e\"] <br>\n",
    "> **Explanation:** <br>\n",
    "> No two adjacent strings in words are anagrams of each other, so no operations are performed.\n",
    "\n",
    "<br>\n",
    "\n",
    "**Constraints:**\n",
    "- `1 <= words.length <= 100`\n",
    "- `1 <= words[i].length <= 10`\n",
    "- `words[i]` consists of lowercase English letters."
   ]
  },
  {
   "cell_type": "code",
   "execution_count": 1,
   "id": "c66db4ee",
   "metadata": {},
   "outputs": [
    {
     "name": "stdout",
     "output_type": "stream",
     "text": [
      "['abba', 'cd']\n",
      "['a', 'b', 'c', 'd', 'e']\n"
     ]
    }
   ],
   "source": [
    "# Code written in Python3\n",
    "from typing import List\n",
    "\n",
    "class Solution:\n",
    "    def removeAnagrams(self, words: List[str]) -> List[str]:\n",
    "        res = [words[0]]\n",
    "        n = len(words)\n",
    "        \n",
    "        def compare(word1: str, word2: str) -> bool:\n",
    "            freq = [0] * 26\n",
    "            for ch in word1:\n",
    "                freq[ord(ch) - ord(\"a\")] += 1\n",
    "            for ch in word2:\n",
    "                freq[ord(ch) - ord(\"a\")] -= 1\n",
    "            return all(x == 0 for x in freq)\n",
    "\n",
    "        for i in range(1, n):\n",
    "            if compare(words[i], words[i - 1]):\n",
    "                continue\n",
    "            res.append(words[i])\n",
    "        return res\n",
    "\n",
    "# Driver code to test the Solution class\n",
    "sol = Solution()\n",
    "\n",
    "# Example 1\n",
    "words1 = [\"abba\", \"baba\", \"bbaa\", \"cd\", \"cd\"]\n",
    "print(sol.removeAnagrams(words1))\n",
    "\n",
    "# Example 2\n",
    "words2 = [\"a\", \"b\", \"c\", \"d\", \"e\"]\n",
    "print(sol.removeAnagrams(words2))"
   ]
  }
 ],
 "metadata": {
  "kernelspec": {
   "display_name": ".venv",
   "language": "python",
   "name": "python3"
  },
  "language_info": {
   "codemirror_mode": {
    "name": "ipython",
    "version": 3
   },
   "file_extension": ".py",
   "mimetype": "text/x-python",
   "name": "python",
   "nbconvert_exporter": "python",
   "pygments_lexer": "ipython3",
   "version": "3.13.7"
  }
 },
 "nbformat": 4,
 "nbformat_minor": 5
}
