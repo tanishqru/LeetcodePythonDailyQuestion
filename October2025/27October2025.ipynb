{
 "cells": [
  {
   "cell_type": "markdown",
   "id": "03df9bc3",
   "metadata": {},
   "source": [
    "### **2125. Numbers of Laser Beams in a Bank**\n",
    "##### Anti-theft security devices are activated inside a bank. You are given a **0-indexed** binary string array `bank` representing the floor plan of the bank, which is an `m x n` 2D matrix. `bank[i]` represents the $i^{th}$ row, consisting of `'0'`s and `'1'`s. `'0'` means the cell is empty, while `'1'` means the cell has a security device.\n",
    "\n",
    "##### There is **one** laser beam between any **two** security devices if **both** conditions are met:\n",
    "\n",
    "##### • The two devices are located on two **different rows**: $r_1$ and $r_2$, where $r_1$ < $r_2$.\n",
    "\n",
    "##### • For **each** row `i` where $r_1$ < i < $r_2$, there are **no security devices** in the $i^{th}$ row.\n",
    "\n",
    "##### Laser beams are independent, i.e., one beam does not interfere nor join with another.\n",
    "\n",
    "##### Return *the total number of laser beams in the bank*.\n",
    "\n",
    "<br>\n",
    "\n",
    "**Example 1:**\n",
    "> **Input:** bank = [\"011001\",\"000000\",\"010100\",\"001000\"] <br>\n",
    "> **Output:** 8 <br>\n",
    "> **Explanation:** Between each of the following device pairs, there is one beam. In total, there are 8 beams: <br>\n",
    ">  * bank[0][1] -- bank[2][1] <br>\n",
    ">  * bank[0][1] -- bank[2][3] <br>\n",
    ">  * bank[0][2] -- bank[2][1] <br>\n",
    ">  * bank[0][2] -- bank[2][3] <br>\n",
    ">  * bank[0][5] -- bank[2][1] <br>\n",
    ">  * bank[0][5] -- bank[2][3] <br>\n",
    ">  * bank[2][1] -- bank[3][2] <br>\n",
    ">  * bank[2][3] -- bank[3][2] <br>\n",
    "> Note that there is no beam between any device on the $0^{th}$ row with any on the $3^{rd}$ row. <br>\n",
    "> This is because the $2^{nd}$ row contains security devices, which breaks the second condition.\n",
    "\n",
    "**Example 2:**\n",
    "> **Input:** bank = [\"000\",\"111\",\"000\"] <br>\n",
    "> **Output:** 0 <br>\n",
    "> **Explanation:** There does not exist two devices located on two different rows.\n",
    "\n",
    "<br>\n",
    "\n",
    "**Constraints:**\n",
    "- `m == bank.length`\n",
    "- `n == bank[i].length`\n",
    "- `1 <= m, n <= 500`\n",
    "- `bank[i][j]` is either `'0'` or `'1'`."
   ]
  },
  {
   "cell_type": "code",
   "execution_count": 1,
   "id": "cdbaab92",
   "metadata": {},
   "outputs": [
    {
     "name": "stdout",
     "output_type": "stream",
     "text": [
      "8\n",
      "0\n"
     ]
    }
   ],
   "source": [
    "# Code written in Python3\n",
    "from typing import List\n",
    "\n",
    "class Solution:\n",
    "    def numberOfBeams(self, bank: List[str]) -> int:\n",
    "        prev = 0\n",
    "        total = 0\n",
    "\n",
    "        for row in bank:\n",
    "            devices = row.count('1')\n",
    "            if devices:\n",
    "                total += prev * devices\n",
    "                prev = devices\n",
    "\n",
    "        return total\n",
    "\n",
    "# Driver code to test the Solution class\n",
    "sol = Solution()\n",
    "\n",
    "# Example 1\n",
    "bank1 = [\"011001\",\"000000\",\"010100\",\"001000\"]\n",
    "print(sol.numberOfBeams(bank1))\n",
    "\n",
    "# Example 2\n",
    "bank2 = [\"000\",\"111\",\"000\"]\n",
    "print(sol.numberOfBeams(bank2))"
   ]
  }
 ],
 "metadata": {
  "kernelspec": {
   "display_name": ".venv",
   "language": "python",
   "name": "python3"
  },
  "language_info": {
   "codemirror_mode": {
    "name": "ipython",
    "version": 3
   },
   "file_extension": ".py",
   "mimetype": "text/x-python",
   "name": "python",
   "nbconvert_exporter": "python",
   "pygments_lexer": "ipython3",
   "version": "3.13.7"
  }
 },
 "nbformat": 4,
 "nbformat_minor": 5
}
