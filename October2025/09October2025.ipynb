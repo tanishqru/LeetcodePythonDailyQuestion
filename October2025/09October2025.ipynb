{
 "cells": [
  {
   "cell_type": "markdown",
   "id": "cedcc24d",
   "metadata": {},
   "source": [
    "### **3494. Find the Minimum Amount of Time to Brew Potions**\n",
    "##### You are given two integer arrays, `skill` and `mana`, of length `n` and `m`, respectively.\n",
    "\n",
    "##### In a laboratory, `n` wizards must brew `m` potions *in order*. Each potion has a mana capacity `mana[j]` and **must** pass through all the wizards sequentially to be brewed properly. The time taken by the $i^{th}$ wizard on the $j^{th}$ potion is $time_{ij}$ `= skill[i] * mana[j]`.\n",
    "\n",
    "##### Since the brewing process is delicate, a potion must be passed to the next wizard immediately after the current wizard completes their work. This means the timing must be *synchronized* so that each wizard begins working on a potion **exactly** when it arrives. ​\n",
    "\n",
    "##### Return the **minimum** amount of time required for the potions to be brewed properly.\n",
    "\n",
    "<br>\n",
    "\n",
    "**Example 1:**\n",
    "> **Input:** skill = [1,5,2,4], mana = [5,1,4,2] <br>\n",
    "> **Output:** 110 <br>\n",
    "> **Explanation:** <br>\n",
    "> | Potion Number |\tStart time | Wizard 0 done by | Wizard 1 done by | Wizard 2 done by | Wizard 3 done by |\n",
    "> | :---: |\t:---: | :---: | :---: | :---: | :---: |\n",
    "> | 0 |\t0 | 5 | 30 | 40 | 60 |\n",
    "> | 1 |\t52 | 53 | 58 | 60 | 64 |\n",
    "> | 2 |\t54 | 58 | 78 | 86 | 102 |\n",
    "> | 3 |\t86 | 88 | 98 | 102 | 110 |\n",
    "> As an example for why wizard 0 cannot start working on the $1^{st}$ potion before time `t = 52`, consider the case where the wizards started preparing the $1^{st}$ potion at time `t = 50`. At time `t = 58`, wizard 2 is done with the $1^{st}$ potion, but wizard 3 will still be working on the $0^{th}$ potion till time `t = 60`.\n",
    "\n",
    "**Example 2:**\n",
    "> **Input:** skill = [1,1,1], mana = [1,1,1] <br>\n",
    "> **Output:** 5 <br>\n",
    "> **Explanation:** <br>\n",
    "> Preparation of the 0th potion begins at time `t = 0`, and is completed by time `t = 3`. <br>\n",
    "> Preparation of the 1st potion begins at time `t = 1`, and is completed by time `t = 4`. <br>\n",
    "> Preparation of the 2nd potion begins at time `t = 2`, and is completed by time `t = 5`.\n",
    "\n",
    "**Example 3:**\n",
    "**Input:** skill = [1,2,3,4], mana = [1,2] <br>\n",
    "**Output:** 21\n",
    "\n",
    "<br>\n",
    "\n",
    "**Constraints:**\n",
    "- `n == skill.length`\n",
    "- `m == mana.length`\n",
    "- `1 <= n, m <= 5000`\n",
    "- `1 <= mana[i], skill[i] <= 5000`\n",
    "\n"
   ]
  },
  {
   "cell_type": "code",
   "execution_count": 1,
   "id": "fb9381b3",
   "metadata": {},
   "outputs": [
    {
     "name": "stdout",
     "output_type": "stream",
     "text": [
      "110\n",
      "5\n",
      "21\n"
     ]
    }
   ],
   "source": [
    "# Code written in Python3\n",
    "from typing import List\n",
    "\n",
    "class Solution:\n",
    "    def minTime(self, skill: List[int], mana: List[int]) -> int:\n",
    "        n, m = len(skill), len(mana)\n",
    "        times = [0] * n\n",
    "        for j in range(m):\n",
    "            cur_time = 0\n",
    "            for i in range(n):\n",
    "                cur_time = max(cur_time, times[i]) + skill[i] * mana[j]\n",
    "            times[n - 1] = cur_time\n",
    "            for i in range(n - 2, -1, -1):\n",
    "                times[i] = times[i + 1] - skill[i + 1] * mana[j]\n",
    "        return times[n - 1]\n",
    "\n",
    "# Driver code to test the Solution class\n",
    "sol = Solution()\n",
    "\n",
    "# Example 1\n",
    "skill1 = [1, 5, 2, 4]\n",
    "mana1 = [5, 1, 4, 2]\n",
    "print(sol.minTime(skill1, mana1))\n",
    "\n",
    "# Example 2\n",
    "skill2 = [1, 1, 1]\n",
    "mana2 = [1, 1, 1]\n",
    "print(sol.minTime(skill2, mana2))\n",
    "\n",
    "# Example 3\n",
    "skill3 = [1, 2, 3, 4]\n",
    "mana3 = [1, 2]\n",
    "print(sol.minTime(skill3, mana3))"
   ]
  }
 ],
 "metadata": {
  "kernelspec": {
   "display_name": ".venv",
   "language": "python",
   "name": "python3"
  },
  "language_info": {
   "codemirror_mode": {
    "name": "ipython",
    "version": 3
   },
   "file_extension": ".py",
   "mimetype": "text/x-python",
   "name": "python",
   "nbconvert_exporter": "python",
   "pygments_lexer": "ipython3",
   "version": "3.13.7"
  }
 },
 "nbformat": 4,
 "nbformat_minor": 5
}
