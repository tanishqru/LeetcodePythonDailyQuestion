{
 "cells": [
  {
   "cell_type": "markdown",
   "id": "ce5edd2c",
   "metadata": {},
   "source": [
    "### **3346. Maximum Frequency of an Element After Performing Operations I**\n",
    "##### You are given an integer array `nums` and two integers `k` and `numOperations`.\n",
    "\n",
    "##### You must perform an **operation** `numOperations` times on `nums`, where in each operation you:\n",
    "\n",
    "##### • Select an index `i` that was **not** selected in any previous operations.\n",
    "\n",
    "##### • Add an integer in the range `[-k, k]` to `nums[i]`.\n",
    "\n",
    "##### Return the **maximum** possible frequency of any element in `nums` after performing the **operations**.\n",
    "\n",
    "<br>\n",
    "\n",
    "**Example 1:**\n",
    "> **Input:** nums = [1,4,5], k = 1, numOperations = 2 <br>\n",
    "> **Output:** 2 <br>\n",
    "> **Explanation:** <br>\n",
    "> We can achieve a maximum frequency of two by: <br>\n",
    "> • Adding 0 to `nums[1]`. `nums` becomes `[1, 4, 5]`. <br>\n",
    "> • Adding -1 to `nums[2]`. `nums` becomes `[1, 4, 4]`.\n",
    "\n",
    "**Example 2:**\n",
    "> **Input:** nums = [5,11,20,20], k = 5, numOperations = 1 <br>\n",
    "> **Output:** 2 <br>\n",
    "> **Explanation:** <br>\n",
    "> We can achieve a maximum frequency of two by: <br>\n",
    "> • Adding 0 to `nums[1]`.\n",
    "\n",
    "<br>\n",
    "\n",
    "**Constraints:**\n",
    "- `1 <= nums.length <= 10^5`\n",
    "- `1 <= nums[i] <= 10^5`\n",
    "- `0 <= k <= 10^5`\n",
    "- `0 <= numOperations <= nums.length`"
   ]
  },
  {
   "cell_type": "code",
   "execution_count": 1,
   "id": "221ae741",
   "metadata": {},
   "outputs": [
    {
     "name": "stdout",
     "output_type": "stream",
     "text": [
      "2\n",
      "2\n"
     ]
    }
   ],
   "source": [
    "# Code written in Python3\n",
    "from typing import List\n",
    "import bisect\n",
    "\n",
    "class Solution:\n",
    "    def maxFrequency(self, nums: List[int], k: int, numOperations: int) -> int:\n",
    "        nums.sort()\n",
    "        ans = 0\n",
    "        num_count = {}\n",
    "        last_num_index = 0\n",
    "        for i in range(len(nums)):\n",
    "            if nums[i] != nums[last_num_index]:\n",
    "                num_count[nums[last_num_index]] = i - last_num_index\n",
    "                ans = max(ans, i - last_num_index)\n",
    "                last_num_index = i\n",
    "\n",
    "        num_count[nums[last_num_index]] = len(nums) - last_num_index\n",
    "        ans = max(ans, len(nums) - last_num_index)\n",
    "\n",
    "        for i in range(nums[0], nums[-1] + 1):\n",
    "            l = bisect.bisect_left(nums, i - k)\n",
    "            r = bisect.bisect_right(nums, i + k) - 1\n",
    "            if i in num_count:\n",
    "                temp_ans = min(r - l + 1, num_count[i] + numOperations)\n",
    "            else:\n",
    "                temp_ans = min(r - l + 1, numOperations)\n",
    "            ans = max(ans, temp_ans)\n",
    "\n",
    "        return ans\n",
    "\n",
    "# Driver code to test the Solution class\n",
    "sol = Solution()\n",
    "\n",
    "# Example 1\n",
    "nums1 = [1, 4, 5]\n",
    "k1 = 1\n",
    "numOperations1 = 2\n",
    "print(sol.maxFrequency(nums1, k1, numOperations1))\n",
    "\n",
    "# Example 2\n",
    "nums2 = [5, 11, 20, 20]\n",
    "k2 = 5\n",
    "numOperations2 = 2\n",
    "print(sol.maxFrequency(nums2, k2, numOperations2))"
   ]
  }
 ],
 "metadata": {
  "kernelspec": {
   "display_name": ".venv",
   "language": "python",
   "name": "python3"
  },
  "language_info": {
   "codemirror_mode": {
    "name": "ipython",
    "version": 3
   },
   "file_extension": ".py",
   "mimetype": "text/x-python",
   "name": "python",
   "nbconvert_exporter": "python",
   "pygments_lexer": "ipython3",
   "version": "3.13.7"
  }
 },
 "nbformat": 4,
 "nbformat_minor": 5
}
