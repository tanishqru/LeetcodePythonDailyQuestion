{
 "cells": [
  {
   "cell_type": "markdown",
   "id": "13521c8b",
   "metadata": {},
   "source": [
    "### **11. Container With Most Water**\n",
    "##### You are given an integer array `height` of length `n`. There are `n` vertical lines drawn such that the two endpoints of the $i^{th}$ line are `(i, 0)` and `(i, height[i])`.\n",
    "\n",
    "##### Find two lines that together with the x-axis form a container, such that the container contains the most water.\n",
    "\n",
    "##### Return *the maximum amount of water a container can store*.\n",
    "\n",
    "##### **Notice** that you may not slant the container.\n",
    "\n",
    "<br>\n",
    "\n",
    "**Example 1:**\n",
    "> **Input:** height = [1,8,6,2,5,4,8,3,7] <br>\n",
    "> **Output:** 49 <br>\n",
    "> **Explanation:** The above vertical lines are represented by array [1,8,6,2,5,4,8,3,7]. In this case, the max area of water (blue section) the container can contain is 49.\n",
    "\n",
    "**Example 2:**\n",
    "> **Input:** height = [1,1] <br>\n",
    "> **Output:** 1\n",
    "\n",
    "<br>\n",
    "\n",
    "**Constraints:**\n",
    "- `n == height.length`\n",
    "- `2 <= n <= 10^5`\n",
    "- `0 <= height[i] <= 10^4`"
   ]
  },
  {
   "cell_type": "code",
   "execution_count": 1,
   "id": "b774a0eb",
   "metadata": {},
   "outputs": [
    {
     "name": "stdout",
     "output_type": "stream",
     "text": [
      "49\n",
      "1\n"
     ]
    }
   ],
   "source": [
    "# Code written in Python3\n",
    "\n",
    "class Solution:\n",
    "    def maxArea(self, height: list[int]) -> int:\n",
    "        i = 0\n",
    "        j = len(height) - 1\n",
    "        res = 0\n",
    "\n",
    "        while i < j:\n",
    "            res = max(res, (j - i) * min(height[i], height[j]))\n",
    "            if height[i] < height[j]:\n",
    "                i += 1\n",
    "            else:\n",
    "                j -= 1\n",
    "\n",
    "        return res\n",
    "\n",
    "# Driver code to test the Solution class\n",
    "\n",
    "sol = Solution()\n",
    "print(sol.maxArea([1, 8, 6, 2, 5, 4, 8, 3, 7]))\n",
    "print(sol.maxArea([1, 1]))"
   ]
  }
 ],
 "metadata": {
  "kernelspec": {
   "display_name": ".venv",
   "language": "python",
   "name": "python3"
  },
  "language_info": {
   "codemirror_mode": {
    "name": "ipython",
    "version": 3
   },
   "file_extension": ".py",
   "mimetype": "text/x-python",
   "name": "python",
   "nbconvert_exporter": "python",
   "pygments_lexer": "ipython3",
   "version": "3.13.7"
  }
 },
 "nbformat": 4,
 "nbformat_minor": 5
}
