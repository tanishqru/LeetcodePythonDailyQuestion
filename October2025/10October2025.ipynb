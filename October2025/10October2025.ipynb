{
 "cells": [
  {
   "cell_type": "markdown",
   "id": "09d88c6b",
   "metadata": {},
   "source": [
    "### **3147. Taking Maximum Energy From the Mystic Dungeon**\n",
    "##### In a mystic dungeon, `n` magicians are standing in a line. Each magician has an attribute that gives you energy. Some magicians can give you negative energy, which means taking energy from you.\n",
    "\n",
    "##### You have been cursed in such a way that after absorbing energy from magician `i`, you will be instantly transported to magician `(i + k)`. This process will be repeated until you reach the magician where `(i + k)` does not exist.\n",
    "\n",
    "##### In other words, you will choose a starting point and then teleport with `k` jumps until you reach the end of the magicians' sequence, **absorbing all the energy** during the journey.\n",
    "\n",
    "##### You are given an array `energy` and an integer `k`. Return the **maximum** possible energy you can gain.\n",
    "\n",
    "##### **Note** that when you are reach a magician, you *must* take energy from them, whether it is negative or positive energy.\n",
    "\n",
    "<br>\n",
    "\n",
    "**Example 1:**\n",
    "> **Input:** energy = [5,2,-10,-5,1], k = 3 <br>\n",
    "> **Output:** 3 <br>\n",
    "> **Explanation:** We can gain a total energy of 3 by starting from magician 1 absorbing 2 + 1 = 3.\n",
    "\n",
    "**Example 2:**\n",
    "> **Input:** energy = [-2,-3,-1], k = 2 <br>\n",
    "> **Output:** -1 <br>\n",
    "> **Explanation:** We can gain a total energy of -1 by starting from magician 2.\n",
    "\n",
    "<br>\n",
    "\n",
    "**Constraints:**\n",
    "- `1 <= energy.length <= 10^5`\n",
    "- `-1000 <= energy[i] <= 1000`\n",
    "- `1 <= k <= energy.length - 1`"
   ]
  },
  {
   "cell_type": "code",
   "execution_count": 1,
   "id": "3e2ffe38",
   "metadata": {},
   "outputs": [
    {
     "name": "stdout",
     "output_type": "stream",
     "text": [
      "3\n",
      "-1\n"
     ]
    }
   ],
   "source": [
    "# Code written in Python3\n",
    "from typing import List\n",
    "from math import inf\n",
    "\n",
    "class Solution:\n",
    "    def maximumEnergy(self, energy: List[int], k: int) -> int:\n",
    "        n = len(energy)\n",
    "        ans = -inf\n",
    "        for i in range(n - k, n):\n",
    "            total = 0\n",
    "            j = i\n",
    "            while j >= 0:\n",
    "                total += energy[j]\n",
    "                ans = max(ans, total)\n",
    "                j -= k\n",
    "        return ans\n",
    "\n",
    "# Driver code to test the Solution class\n",
    "sol = Solution()\n",
    "\n",
    "# Example 1\n",
    "energy1 = [5, 2, -10, -5, 1]\n",
    "k1 = 3\n",
    "print(sol.maximumEnergy(energy1, k1))\n",
    "\n",
    "# Example 2\n",
    "energy2 = [-2, -3, -1]\n",
    "k2 = 2\n",
    "print(sol.maximumEnergy(energy2, k2))"
   ]
  }
 ],
 "metadata": {
  "kernelspec": {
   "display_name": ".venv",
   "language": "python",
   "name": "python3"
  },
  "language_info": {
   "codemirror_mode": {
    "name": "ipython",
    "version": 3
   },
   "file_extension": ".py",
   "mimetype": "text/x-python",
   "name": "python",
   "nbconvert_exporter": "python",
   "pygments_lexer": "ipython3",
   "version": "3.13.7"
  }
 },
 "nbformat": 4,
 "nbformat_minor": 5
}
