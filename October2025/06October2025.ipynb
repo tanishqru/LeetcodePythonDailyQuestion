{
 "cells": [
  {
   "cell_type": "markdown",
   "id": "e5da9d51",
   "metadata": {},
   "source": [
    "### **778. Swim in Rising Water**\n",
    "##### You are given an `n x n` integer matrix `grid` where each value `grid[i][j]` represents the elevation at that point `(i, j)`.\n",
    "\n",
    "##### It starts raining, and water gradually rises over time. At time `t`, the water level is `t`, meaning **any** cell with elevation less than equal to `t` is submerged or reachable.\n",
    "\n",
    "##### You can swim from a square to another 4-directionally adjacent square if and only if the elevation of both squares individually are at most `t`. You can swim infinite distances in zero time. Of course, you must stay within the boundaries of the grid during your swim.\n",
    "\n",
    "##### Return *the minimum time until you can reach the bottom right square* `(n - 1, n - 1)` *if you start at the top left square* `(0, 0)`.\n",
    "\n",
    "<br>\n",
    "\n",
    "**Example 1:**\n",
    "> **Input:** grid = [[0,2],[1,3]] <br>\n",
    "> **Output:** 3 <br>\n",
    "> **Explanation:** <br>\n",
    "> At time 0, you are in grid location (0, 0). <br>\n",
    "> You cannot go anywhere else because 4-directionally adjacent neighbors have a higher elevation than t = 0. <br>\n",
    "> You cannot reach point (1, 1) until time 3. <br>\n",
    "> When the depth of water is 3, we can swim anywhere inside the grid.\n",
    "\n",
    "**Example 2:**\n",
    "> **Input:** grid = [[0,1,2,3,4],[24,23,22,21,5],[12,13,14,15,16],[11,17,18,19,20],[10,9,8,7,6]] <br>\n",
    "> **Output:** 16 <br>\n",
    "> **Explanation:** The final route is shown. <br>\n",
    "> We need to wait until time 16 so that (0, 0) and (4, 4) are connected.\n",
    "\n",
    "<br>\n",
    "\n",
    "**Constraints:**\n",
    "- `n == grid.length`\n",
    "- `n == grid[i].length`\n",
    "- `1 <= n <= 50`\n",
    "- `0 <= grid[i][j] < n^2`\n",
    "- Each value `grid[i][j]` is **unique**."
   ]
  },
  {
   "cell_type": "code",
   "execution_count": 1,
   "id": "f00ea05f",
   "metadata": {},
   "outputs": [
    {
     "name": "stdout",
     "output_type": "stream",
     "text": [
      "3\n",
      "16\n"
     ]
    }
   ],
   "source": [
    "# Code written in Python3\n",
    "import heapq\n",
    "from typing import List\n",
    "\n",
    "class Solution:\n",
    "    def swimInWater(self, grid: List[List[int]]) -> int:\n",
    "        n = len(grid)\n",
    "        visited = [[False] * n for _ in range(n)]\n",
    "        min_heap = [(grid[0][0], 0, 0)]\n",
    "        directions = [(1, 0), (-1, 0), (0, 1), (0, -1)]\n",
    "\n",
    "        while min_heap:\n",
    "            time, r, c = heapq.heappop(min_heap)\n",
    "            if visited[r][c]:\n",
    "                continue\n",
    "            visited[r][c] = True\n",
    "\n",
    "            if r == n - 1 and c == n - 1:\n",
    "                return time\n",
    "\n",
    "            for dr, dc in directions:\n",
    "                nr, nc = r + dr, c + dc\n",
    "                if 0 <= nr < n and 0 <= nc < n and not visited[nr][nc]:\n",
    "                    heapq.heappush(min_heap, (max(time, grid[nr][nc]), nr, nc))\n",
    "        \n",
    "        return -1\n",
    "\n",
    "# Driver code to test the Solution class\n",
    "sol = Solution()\n",
    "\n",
    "# Example 1\n",
    "grid1 = [[0,2],[1,3]]\n",
    "print(sol.swimInWater(grid1))\n",
    "\n",
    "# Example 2\n",
    "grid2 = [[0,1,2,3,4],[24,23,22,21,5],[12,13,14,15,16],[11,17,18,19,20],[10,9,8,7,6]]\n",
    "print(sol.swimInWater(grid2))"
   ]
  }
 ],
 "metadata": {
  "kernelspec": {
   "display_name": ".venv",
   "language": "python",
   "name": "python3"
  },
  "language_info": {
   "codemirror_mode": {
    "name": "ipython",
    "version": 3
   },
   "file_extension": ".py",
   "mimetype": "text/x-python",
   "name": "python",
   "nbconvert_exporter": "python",
   "pygments_lexer": "ipython3",
   "version": "3.13.7"
  }
 },
 "nbformat": 4,
 "nbformat_minor": 5
}
