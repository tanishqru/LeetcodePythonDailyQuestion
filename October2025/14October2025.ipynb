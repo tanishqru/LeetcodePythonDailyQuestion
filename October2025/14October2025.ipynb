{
 "cells": [
  {
   "cell_type": "markdown",
   "id": "2052bf23",
   "metadata": {},
   "source": [
    "### **3349. Adjacent Increasing Subarrays Detection I**\n",
    "##### Given an array `nums` of `n` integers and an integer `k`, determine whether there exist **two adjacent subarrays** of length `k` such that both subarrays are **strictly increasing**. Specifically, check if there are **two** subarrays starting at indices `a` and `b` (`a < b`), where:\n",
    "\n",
    "##### - Both subarrays `nums[a..a + k - 1]` and `nums[b..b + k - 1]` are **strictly increasing**.\n",
    "\n",
    "##### - The subarrays must be **adjacent**, meaning `b = a + k`.\n",
    "\n",
    "##### Return `true` if it is *possible* to find **two** such subarrays, and `false` otherwise.\n",
    "\n",
    "<br>\n",
    "\n",
    "**Example 1:**\n",
    "> **Input:** nums = [2,5,7,8,9,2,3,4,3,1], k = 3 <br>\n",
    "> **Output:** true <br>\n",
    "> **Explanation:** <br>\n",
    "> The subarray starting at index `2` is `[7, 8, 9]`, which is strictly increasing. <br>\n",
    "> The subarray starting at index `5` is `[2, 3, 4]`, which is also strictly increasing. <br>\n",
    "> These two subarrays are adjacent, so the result is `true`.\n",
    "\n",
    "**Example 2:**\n",
    "> **Input:** nums = [1,2,3,4,4,4,4,5,6,7], k = 5 <br>\n",
    "> **Output:** false\n",
    "\n",
    "<br>\n",
    "\n",
    "**Constraints:**\n",
    "- `2 <= nums.length <= 100`\n",
    "- `1 < 2 * k <= nums.length`\n",
    "- `-1000 <= nums[i] <= 1000`"
   ]
  },
  {
   "cell_type": "code",
   "execution_count": 1,
   "id": "eaf29b32",
   "metadata": {},
   "outputs": [
    {
     "name": "stdout",
     "output_type": "stream",
     "text": [
      "True\n",
      "False\n"
     ]
    }
   ],
   "source": [
    "# Code written in Python3\n",
    "from typing import List\n",
    "\n",
    "class Solution:\n",
    "    def hasIncreasingSubarrays(self, nums: List[int], k: int) -> bool:\n",
    "        n = len(nums)\n",
    "        cnt, precnt, ans = 1, 0, 0\n",
    "        for i in range(1, n):\n",
    "            if nums[i] > nums[i - 1]:\n",
    "                cnt += 1\n",
    "            else:\n",
    "                precnt, cnt = cnt, 1\n",
    "            ans = max(ans, min(precnt, cnt))\n",
    "            ans = max(ans, cnt // 2)\n",
    "        return ans >= k\n",
    "    \n",
    "# Driver code to test the Solution class\n",
    "sol = Solution()\n",
    "\n",
    "# Example 1\n",
    "nums1 = [2, 5, 7, 8, 9, 2, 3, 4, 3, 1]\n",
    "k1 = 3\n",
    "print(sol.hasIncreasingSubarrays(nums1, k1))\n",
    "\n",
    "# Example 2\n",
    "nums2 = [1, 2, 3, 4, 4, 4, 4, 5, 6, 7]\n",
    "k2 = 5\n",
    "print(sol.hasIncreasingSubarrays(nums2, k2))"
   ]
  }
 ],
 "metadata": {
  "kernelspec": {
   "display_name": ".venv",
   "language": "python",
   "name": "python3"
  },
  "language_info": {
   "codemirror_mode": {
    "name": "ipython",
    "version": 3
   },
   "file_extension": ".py",
   "mimetype": "text/x-python",
   "name": "python",
   "nbconvert_exporter": "python",
   "pygments_lexer": "ipython3",
   "version": "3.13.7"
  }
 },
 "nbformat": 4,
 "nbformat_minor": 5
}
