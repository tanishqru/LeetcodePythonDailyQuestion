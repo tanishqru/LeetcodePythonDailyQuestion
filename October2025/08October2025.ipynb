{
 "cells": [
  {
   "cell_type": "markdown",
   "id": "84892f13",
   "metadata": {},
   "source": [
    "### **2300. Successful Pairs of Spells and Potions**\n",
    "##### You are given two positive integer arrays `spells` and `potions`, of length `n` and `m` respectively, where `spells[i]` represents the strength of the $i^{th}$ spell and `potions[j]` represents the strength of the $j^{th}$ potion.\n",
    "\n",
    "##### You are also given an integer `success`. A spell and potion pair is considered **successful** if the **product** of their strengths is **at least** `success`.\n",
    "\n",
    "##### Return *an integer array* `pairs` *of length* `n` *where* `pairs[i]` *is the number of **potions** that will form a successful pair with the* $i^{th}$ *spell*.\n",
    "\n",
    "<br>\n",
    "\n",
    "**Example 1:**\n",
    "> **Input:** spells = [5,1,3], potions = [1,2,3,4,5], success = 7 <br>\n",
    "> **Output:** [4,0,3] <br>\n",
    "> **Explanation:** <br>\n",
    "> - 0th spell: 5 * [1,2,3,4,5] = [5,<u>**10**</u>,<u>**15**</u>,<u>**20**</u>,<u>**25**</u>]. 4 pairs are successful. <br>\n",
    "> - 1st spell: 1 * [1,2,3,4,5] = [1,2,3,4,5]. 0 pairs are successful. <br>\n",
    "> - 2nd spell: 3 * [1,2,3,4,5] = [3,6,<u>**9**</u>,<u>**12**</u>,<u>**15**</u>]. 3 pairs are successful. <br>\n",
    "> Thus, [4,0,3] is returned.\n",
    "\n",
    "**Example 2:**\n",
    "> **Input:** spells = [3,1,2], potions = [8,5,8], success = 16 <br>\n",
    "> **Output:** [2,0,2] <br>\n",
    "> **Explanation:** <br>\n",
    "> - 0th spell: 3 * [8,5,8] = [<u>**24**</u>,15,<u>**24**</u>]. 2 pairs are successful. <br>\n",
    "> - 1st spell: 1 * [8,5,8] = [8,5,8]. 0 pairs are successful. <br>\n",
    "> - 2nd spell: 2 * [8,5,8] = [<u>**16**</u>,10,<u>**16**</u>]. 2 pairs are successful. <br>\n",
    "> Thus, [2,0,2] is returned.\n",
    "\n",
    "<br>\n",
    "\n",
    "**Constraints:**\n",
    "- `n == spells.length`\n",
    "- `m == potions.length`\n",
    "- `1 <= n, m <= 10^5`\n",
    "- `1 <= spells[i], potions[i] <= 10^5`\n",
    "- `1 <= success <= 10^10`"
   ]
  },
  {
   "cell_type": "code",
   "execution_count": 1,
   "id": "b4ff24d5",
   "metadata": {},
   "outputs": [
    {
     "name": "stdout",
     "output_type": "stream",
     "text": [
      "[4, 0, 3]\n",
      "[2, 0, 2]\n"
     ]
    }
   ],
   "source": [
    "# Code written in Python3\n",
    "from typing import List\n",
    "\n",
    "class Solution:\n",
    "    def successfulPairs(self, spells: List[int], potions: List[int], success: int) -> List[int]:\n",
    "        n = len(spells)\n",
    "        m = len(potions)\n",
    "        potions.sort()\n",
    "        pairs = [0]*n\n",
    "        \n",
    "        def bs(idx, potions):\n",
    "            l = 0\n",
    "            r = m-1\n",
    "            if spells[idx] * potions[-1] < success:\n",
    "                pairs[idx] = 0\n",
    "            else:\n",
    "                while (l < r):\n",
    "                    mid = (l + r)//2\n",
    "                    if potions[mid]*spells[idx] < success:\n",
    "                        l = mid + 1\n",
    "                    elif potions[mid]*spells[idx] >= success:\n",
    "                        r = mid\n",
    "                pairs[idx] = m - r\n",
    "\n",
    "        for i in range(n):\n",
    "            bs(i, potions)\n",
    "        \n",
    "        return pairs\n",
    "\n",
    "# Driver code to test the Solution class\n",
    "sol = Solution()\n",
    "\n",
    "# Example 1\n",
    "spells1 = [5, 1, 3]\n",
    "potions1 = [1, 2, 3, 4, 5]\n",
    "success1 = 7\n",
    "print(sol.successfulPairs(spells1, potions1, success1))\n",
    "\n",
    "# Example 2\n",
    "spells2 = [3, 1, 2]\n",
    "potions2 = [8, 5, 8]\n",
    "success2 = 16\n",
    "print(sol.successfulPairs(spells2, potions2, success2))"
   ]
  }
 ],
 "metadata": {
  "kernelspec": {
   "display_name": ".venv",
   "language": "python",
   "name": "python3"
  },
  "language_info": {
   "codemirror_mode": {
    "name": "ipython",
    "version": 3
   },
   "file_extension": ".py",
   "mimetype": "text/x-python",
   "name": "python",
   "nbconvert_exporter": "python",
   "pygments_lexer": "ipython3",
   "version": "3.13.7"
  }
 },
 "nbformat": 4,
 "nbformat_minor": 5
}
