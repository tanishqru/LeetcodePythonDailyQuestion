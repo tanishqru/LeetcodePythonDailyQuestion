{
 "cells": [
  {
   "cell_type": "markdown",
   "id": "a3fad19a",
   "metadata": {},
   "source": [
    "### **3186. Maximum Total Damage With Spell Casting**\n",
    "##### A magician has various spells.\n",
    "\n",
    "##### You are given an array `power`, where each element represents the damage of a spell. Multiple spells can have the same damage value.\n",
    "\n",
    "##### It is a known fact that if a magician decides to cast a spell with a damage of `power[i]`, they **cannot** cast any spell with a damage of `power[i] - 2`, `power[i] - 1`, `power[i] + 1`, or `power[i] + 2`.\n",
    "\n",
    "##### Each spell can be cast **only once**.\n",
    "\n",
    "##### Return the **maximum** possible *total damage* that a magician can cast.\n",
    "\n",
    "<br>\n",
    "\n",
    "**Example 1:**\n",
    "> **Input:** power = [1,1,3,4] <br>\n",
    "> **Output:** 6 <br>\n",
    "> **Explanation:**\n",
    "> The maximum possible damage of 6 is produced by casting spells 0, 1, 3 with damage 1, 1, 4.\n",
    "\n",
    "**Example 2:**\n",
    "> **Input:** power = [7,1,6,6] <br>\n",
    "> **Output:** 13 <br>\n",
    "> **Explanation:**\n",
    "> The maximum possible damage of 13 is produced by casting spells 1, 2, 3 with damage 1, 6, 6.\n",
    "\n",
    "<br>\n",
    "\n",
    "**Constraints:**\n",
    "- `1 <= power.length <= 10^5`\n",
    "- `1 <= power[i] <= 10^9`"
   ]
  },
  {
   "cell_type": "code",
   "execution_count": 1,
   "id": "b44c3817",
   "metadata": {},
   "outputs": [
    {
     "name": "stdout",
     "output_type": "stream",
     "text": [
      "6\n",
      "13\n"
     ]
    }
   ],
   "source": [
    "# Code written in Python3\n",
    "from collections import Counter\n",
    "\n",
    "class Solution:\n",
    "    def maximumTotalDamage(self, power):\n",
    "        count = Counter(power)\n",
    "        vec = [(-(10**9), 0)]\n",
    "        for k in sorted(count.keys()):\n",
    "            vec.append((k, count[k]))\n",
    "        n = len(vec)\n",
    "        f = [0] * n\n",
    "        mx = 0\n",
    "        j = 1\n",
    "        for i in range(1, n):\n",
    "            while j < i and vec[j][0] < vec[i][0] - 2:\n",
    "                mx = max(mx, f[j])\n",
    "                j += 1\n",
    "            f[i] = mx + vec[i][0] * vec[i][1]\n",
    "        return max(f)\n",
    "\n",
    "# Driver code to test the Solution class\n",
    "sol = Solution()\n",
    "\n",
    "# Example 1\n",
    "power1 = [1, 1, 3, 4]\n",
    "print(sol.maximumTotalDamage(power1))\n",
    "\n",
    "# Example 2\n",
    "power2 = [7, 1, 6, 6]\n",
    "print(sol.maximumTotalDamage(power2))"
   ]
  }
 ],
 "metadata": {
  "kernelspec": {
   "display_name": ".venv",
   "language": "python",
   "name": "python3"
  },
  "language_info": {
   "codemirror_mode": {
    "name": "ipython",
    "version": 3
   },
   "file_extension": ".py",
   "mimetype": "text/x-python",
   "name": "python",
   "nbconvert_exporter": "python",
   "pygments_lexer": "ipython3",
   "version": "3.13.7"
  }
 },
 "nbformat": 4,
 "nbformat_minor": 5
}
