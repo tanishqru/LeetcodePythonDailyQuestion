{
 "cells": [
  {
   "cell_type": "markdown",
   "id": "17a2ab91",
   "metadata": {},
   "source": [
    "### **Check If Digits Are Equal in String After Operations I**\n",
    "##### You are given a string `s` consisting of digits. Perform the following operation repeatedly until the string has **exactly** two digits:\n",
    "\n",
    "##### • For each pair of consecutive digits in `s`, starting from the first digit, calculate a new digit as the sum of the two digits **modulo** 10.\n",
    "\n",
    "##### • Replace `s` with the sequence of newly calculated digits, *maintaining the order* in which they are computed.\n",
    "\n",
    "##### Return `true` if the final two digits in `s` are the **same**; otherwise, return `false`.\n",
    "\n",
    "<br>\n",
    "\n",
    "**Example 1:**\n",
    "> **Input:** s = \"3902\" <br>\n",
    "> **Output:** true <br>\n",
    "> **Explanation:** <br>\n",
    "> Initially, `s = \"3902\"` <br>\n",
    "> First operation: <br>\n",
    "> • `(s[0] + s[1]) % 10 = (3 + 9) % 10 = 2` <br>\n",
    "> • `(s[1] + s[2]) % 10 = (9 + 0) % 10 = 9` <br>\n",
    "> • `(s[2] + s[3]) % 10 = (0 + 2) % 10 = 2` <br>\n",
    "> `s` becomes `\"292\"` <br>\n",
    "> Second operation: <br>\n",
    "> • `(s[0] + s[1]) % 10 = (2 + 9) % 10 = 1` <br>\n",
    "> • `(s[1] + s[2]) % 10 = (9 + 2) % 10 = 1` <br>\n",
    "> `s` becomes `\"11\"` <br>\n",
    "> Since the digits in `\"11\"` are the same, the output is `true`.\n",
    "\n",
    "**Example 2:**\n",
    "> **Input:** s = \"34789\" <br>\n",
    "> **Output:** false <br>\n",
    "> **Explanation:** <br>\n",
    "> Initially, `s = \"34789\"`. <br>\n",
    "> • After the first operation, `s = \"7157\"`. <br>\n",
    "> • After the second operation, `s = \"862\"`. <br>\n",
    "> • After the third operation, `s = \"48\"`. <br>\n",
    "> Since `'4' != '8'`, the output is `false`.\n",
    "\n",
    "<br>\n",
    "\n",
    "**Constraints:**\n",
    "- `3 <= s.length <= 100`\n",
    "- `s` consists of only digits."
   ]
  },
  {
   "cell_type": "code",
   "execution_count": 1,
   "id": "835c49bb",
   "metadata": {},
   "outputs": [
    {
     "name": "stdout",
     "output_type": "stream",
     "text": [
      "True\n",
      "False\n"
     ]
    }
   ],
   "source": [
    "# Code written in Python3\n",
    "\n",
    "class Solution:\n",
    "    def hasSameDigits(self, s: str) -> bool:\n",
    "        n = len(s)\n",
    "        s_list = list(s)\n",
    "        for i in range(1, n - 1):\n",
    "            for j in range(n - i):\n",
    "                digit1 = ord(s_list[j]) - ord(\"0\")\n",
    "                digit2 = ord(s_list[j + 1]) - ord(\"0\")\n",
    "                s_list[j] = chr(((digit1 + digit2) % 10) + ord(\"0\"))\n",
    "        return s_list[0] == s_list[1]\n",
    "\n",
    "# Driver code to test the Solution class\n",
    "sol = Solution()\n",
    "\n",
    "# Example 1\n",
    "s1 = \"3902\"\n",
    "print(sol.hasSameDigits(s1))\n",
    "\n",
    "# Example 2\n",
    "s2 = \"34789\"\n",
    "print(sol.hasSameDigits(s2))"
   ]
  }
 ],
 "metadata": {
  "kernelspec": {
   "display_name": ".venv",
   "language": "python",
   "name": "python3"
  },
  "language_info": {
   "codemirror_mode": {
    "name": "ipython",
    "version": 3
   },
   "file_extension": ".py",
   "mimetype": "text/x-python",
   "name": "python",
   "nbconvert_exporter": "python",
   "pygments_lexer": "ipython3",
   "version": "3.13.7"
  }
 },
 "nbformat": 4,
 "nbformat_minor": 5
}
