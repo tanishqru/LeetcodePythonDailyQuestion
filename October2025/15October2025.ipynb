{
 "cells": [
  {
   "cell_type": "markdown",
   "id": "6920e641",
   "metadata": {},
   "source": [
    "### **3350. Adjacent Increasing Subarrays Detection II**\n",
    "##### Given an array `nums` of `n` integers, your task is to find the maximum value of `k` for which there exist two adjacent subarrays of length `k` each, such that both subarrays are **strictly increasing**. Specifically, check if there are two subarrays of length `k` starting at indices `a` and `b` (`a < b`), where:\n",
    "\n",
    "##### - Both subarrays `nums[a..a + k - 1]` and `nums[b..b + k - 1]` are **strictly increasing**.\n",
    "\n",
    "##### - The subarrays must be **adjacent**, meaning `b = a + k`.\n",
    "\n",
    "##### Return the **maximum** *possible* value of `k`.\n",
    "\n",
    "##### A **subarray** is a contiguous **non-empty** sequence of elements within an array.\n",
    "\n",
    "<br>\n",
    "\n",
    "**Example 1:**\n",
    "> **Input:** nums = [2,5,7,8,9,2,3,4,3,1] <br>\n",
    "> **Output:** 3 <br>\n",
    "> **Explanation:** <br>\n",
    "> - The subarray starting at index 2 is `[7, 8, 9]`, which is strictly increasing. <br>\n",
    "> - The subarray starting at index 5 is `[2, 3, 4]`, which is also strictly increasing. <br>\n",
    "> - These two subarrays are adjacent, and 3 is the **maximum** possible value of `k` for which two such adjacent strictly increasing subarrays exist.\n",
    "\n",
    "**Example 2:**\n",
    "> **Input:** nums = [1,2,3,4,4,4,4,5,6,7] <br>\n",
    "> **Output:** 2 <br>\n",
    "> **Explanation:** <br>\n",
    "> The subarray starting at index 0 is `[1, 2]`, which is strictly increasing. <br>\n",
    "> The subarray starting at index 2 is `[3, 4]`, which is also strictly increasing. <br>\n",
    "> These two subarrays are adjacent, and 2 is the **maximum** possible value of `k` for which two such adjacent strictly increasing subarrays exist.\n",
    "\n",
    "<br>\n",
    "\n",
    "**Constraints:**\n",
    "- `2 <= nums.length <= 2 * 10^5`\n",
    "- `-10^9 <= nums[i] <= 10^9`"
   ]
  },
  {
   "cell_type": "code",
   "execution_count": 1,
   "id": "19ba77ab",
   "metadata": {},
   "outputs": [
    {
     "name": "stdout",
     "output_type": "stream",
     "text": [
      "3\n",
      "2\n"
     ]
    }
   ],
   "source": [
    "# Code written in Python3\n",
    "from typing import List\n",
    "\n",
    "class Solution:\n",
    "    def maxIncreasingSubarrays(self, nums: List[int]) -> int:\n",
    "        n = len(nums)\n",
    "        cnt, precnt, ans = 1, 0, 0\n",
    "        for i in range(1, n):\n",
    "            if nums[i] > nums[i - 1]:\n",
    "                cnt += 1\n",
    "            else:\n",
    "                precnt, cnt = cnt, 1\n",
    "            ans = max(ans, min(precnt, cnt))\n",
    "            ans = max(ans, cnt // 2)\n",
    "        return ans\n",
    "\n",
    "# Driver code to test the Solution class\n",
    "sol = Solution()\n",
    "\n",
    "# Example 1\n",
    "print(sol.maxIncreasingSubarrays([2, 5, 7, 8, 9, 2, 3, 4, 3, 1]))\n",
    "\n",
    "# Example 2\n",
    "print(sol.maxIncreasingSubarrays([1, 2, 3, 4, 4, 4, 4, 5, 6, 7]))"
   ]
  }
 ],
 "metadata": {
  "kernelspec": {
   "display_name": ".venv",
   "language": "python",
   "name": "python3"
  },
  "language_info": {
   "codemirror_mode": {
    "name": "ipython",
    "version": 3
   },
   "file_extension": ".py",
   "mimetype": "text/x-python",
   "name": "python",
   "nbconvert_exporter": "python",
   "pygments_lexer": "ipython3",
   "version": "3.13.7"
  }
 },
 "nbformat": 4,
 "nbformat_minor": 5
}
