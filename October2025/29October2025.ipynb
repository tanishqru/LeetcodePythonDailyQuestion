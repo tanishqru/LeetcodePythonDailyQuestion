{
 "cells": [
  {
   "cell_type": "markdown",
   "id": "fe24e3da",
   "metadata": {},
   "source": [
    "### **3370. Smallest Number With All Set Bits**\n",
    "##### You are given a *positive* number `n`.\n",
    "\n",
    "##### Return the **smallest** number `x` **greater than** or **equal to** `n`, such that the binary representation of `x` contains only **set bits**\n",
    "\n",
    "<br>\n",
    "\n",
    "**Example 1:**\n",
    "> **Input:** n = 5 <br>\n",
    "> **Output:** 7 <br>\n",
    "> **Explanation:** <br>\n",
    "> The binary representation of 7 is \"111\".\n",
    "\n",
    "**Example 2:**\n",
    "> **Input:** n = 10 <br>\n",
    "> **Output:** 15 <br>\n",
    "> **Explanation:** <br>\n",
    "> The binary representation of 15 is \"1111\".\n",
    "\n",
    "**Example 3:**\n",
    "> **Input:** n = 3 <br>\n",
    "> **Output:** 3 <br>\n",
    "> **Explanation:** <br>\n",
    "> The binary representation of 3 is \"11\".\n",
    "\n",
    "<br>\n",
    "\n",
    "**Constraints:**\n",
    "- `1 <= n <= 1000`"
   ]
  },
  {
   "cell_type": "code",
   "execution_count": 1,
   "id": "586c154d",
   "metadata": {},
   "outputs": [
    {
     "name": "stdout",
     "output_type": "stream",
     "text": [
      "7\n",
      "15\n",
      "3\n"
     ]
    }
   ],
   "source": [
    "# Code written in Python3\n",
    "\n",
    "class Solution:\n",
    "    def smallestNumber(self, n: int) -> int:\n",
    "        x = 1\n",
    "        while x < n:\n",
    "            x = x * 2 + 1\n",
    "        return x\n",
    "\n",
    "# Driver code to test the Solution class\n",
    "sol = Solution()\n",
    "\n",
    "# Example 1\n",
    "n1 = 5\n",
    "print(sol.smallestNumber(n1))\n",
    "\n",
    "# Example 2\n",
    "n2 = 10\n",
    "print(sol.smallestNumber(n2))\n",
    "\n",
    "# Example 3\n",
    "n3 = 3\n",
    "print(sol.smallestNumber(n3))"
   ]
  }
 ],
 "metadata": {
  "kernelspec": {
   "display_name": ".venv",
   "language": "python",
   "name": "python3"
  },
  "language_info": {
   "codemirror_mode": {
    "name": "ipython",
    "version": 3
   },
   "file_extension": ".py",
   "mimetype": "text/x-python",
   "name": "python",
   "nbconvert_exporter": "python",
   "pygments_lexer": "ipython3",
   "version": "3.13.7"
  }
 },
 "nbformat": 4,
 "nbformat_minor": 5
}
