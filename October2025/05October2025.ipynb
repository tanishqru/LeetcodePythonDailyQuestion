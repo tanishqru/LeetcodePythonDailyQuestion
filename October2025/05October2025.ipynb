{
 "cells": [
  {
   "cell_type": "markdown",
   "id": "24641a1f",
   "metadata": {},
   "source": [
    "### **417. Pacific Atlantic Water Flow**\n",
    "##### There is an `m x n` rectangular island that borders both the **Pacific Ocean** and **Atlantic Ocean**. The **Pacific Ocean** touches the island's left and top edges, and the **Atlantic Ocean** touches the island's right and bottom edges.\n",
    "\n",
    "##### The island is partitioned into a grid of square cells. You are given an `m x n` integer matrix `heights` where `heights[r][c]` represents the **height above sea level** of the cell at coordinate `(r, c)`.\n",
    "\n",
    "##### The island receives a lot of rain, and the rain water can flow to neighboring cells directly north, south, east, and west if the neighboring cell's height is **less than or equal to** the current cell's height. Water can flow from any cell adjacent to an ocean into the ocean.\n",
    "\n",
    "##### Return *a **2D list** of grid coordinates* `result` *where* `result[i] =` [$r_i$, $c_i$] *denotes that rain water can flow from cell* ($r_i$, $c_i$) *to **both** the Pacific and Atlantic oceans*.\n",
    "\n",
    "<br>\n",
    "\n",
    "**Example 1:**\n",
    "> **Input:** heights = [[1,2,2,3,5],[3,2,3,4,4],[2,4,5,3,1],[6,7,1,4,5],[5,1,1,2,4]] <br>\n",
    "> **Output:** [[0,4],[1,3],[1,4],[2,2],[3,0],[3,1],[4,0]] <br>\n",
    "> **Explanation:** The following cells can flow to the Pacific and Atlantic oceans, as shown below: <br>\n",
    "> [0,4]: [0,4] -> Pacific Ocean <br>\n",
    ">        [0,4] -> Atlantic Ocean <br>\n",
    "> [1,3]: [1,3] -> [0,3] -> Pacific Ocean <br>\n",
    ">        [1,3] -> [1,4] -> Atlantic Ocean <br>\n",
    "> [1,4]: [1,4] -> [1,3] -> [0,3] -> Pacific Ocean <br>\n",
    ">        [1,4] -> Atlantic Ocean <br>\n",
    "> [2,2]: [2,2] -> [1,2] -> [0,2] -> Pacific Ocean <br>\n",
    ">        [2,2] -> [2,3] -> [2,4] -> Atlantic Ocean <br>\n",
    "> [3,0]: [3,0] -> Pacific Ocean <br>\n",
    ">        [3,0] -> [4,0] -> Atlantic Ocean <br>\n",
    "> [3,1]: [3,1] -> [3,0] -> Pacific Ocean <br>\n",
    ">        [3,1] -> [4,1] -> Atlantic Ocean <br>\n",
    "> [4,0]: [4,0] -> Pacific Ocean <br>\n",
    ">        [4,0] -> Atlantic Ocean <br>\n",
    "> Note that there are other possible paths for these cells to flow to the Pacific and Atlantic oceans.\n",
    "\n",
    "**Example 2:**\n",
    "> **Input:** heights = [[1]] <br>\n",
    "> **Output:** [[0,0]] <br>\n",
    "> **Explanation:** The water can flow from the only cell to the Pacific and Atlantic oceans.\n",
    "\n",
    "<br>\n",
    "\n",
    "**Constraints:**\n",
    "- `m == heights.length`\n",
    "- `n == heights[r].length`\n",
    "- `1 <= m, n <= 200`\n",
    "- `0 <= heights[r][c] <= 10^5`"
   ]
  },
  {
   "cell_type": "code",
   "execution_count": 2,
   "id": "a07c6741",
   "metadata": {},
   "outputs": [
    {
     "name": "stdout",
     "output_type": "stream",
     "text": [
      "[(4, 0), (0, 4), (3, 1), (1, 4), (3, 0), (2, 2), (1, 3)]\n",
      "[(0, 0)]\n"
     ]
    }
   ],
   "source": [
    "# Code written in Python3\n",
    "from typing import List\n",
    "\n",
    "class Solution:\n",
    "    def pacificAtlantic(self, heights: List[List[int]]) -> List[List[int]]:\n",
    "        if not heights or not heights[0]:\n",
    "            return []\n",
    "\n",
    "        m, n = len(heights), len(heights[0])\n",
    "        pacific = set()\n",
    "        atlantic = set()\n",
    "\n",
    "        def dfs(r, c, visited, prevHeight):\n",
    "            if (r, c) in visited:\n",
    "                return\n",
    "            if r < 0 or r >= m or c < 0 or c >= n:\n",
    "                return\n",
    "            if heights[r][c] < prevHeight:\n",
    "                return\n",
    "\n",
    "            visited.add((r, c))\n",
    "            directions = [(1,0),(-1,0),(0,1),(0,-1)]\n",
    "            for dr, dc in directions:\n",
    "                dfs(r+dr, c+dc, visited, heights[r][c])\n",
    "\n",
    "        for c in range(n):\n",
    "            dfs(0, c, pacific, heights[0][c])\n",
    "            dfs(m-1, c, atlantic, heights[m-1][c])\n",
    "        for r in range(m):\n",
    "            dfs(r, 0, pacific, heights[r][0])\n",
    "            dfs(r, n-1, atlantic, heights[r][n-1])\n",
    "\n",
    "        return list(pacific & atlantic)\n",
    "\n",
    "# Driver code to test the Solution class\n",
    "sol = Solution()\n",
    "\n",
    "# Example 1\n",
    "heights1 = [[1,2,2,3,5],[3,2,3,4,4],[2,4,5,3,1],[6,7,1,4,5],[5,1,1,2,4]]\n",
    "print(sol.pacificAtlantic(heights1))\n",
    "\n",
    "# Example 2\n",
    "heights2 = [[1]]\n",
    "print(sol.pacificAtlantic(heights2))"
   ]
  }
 ],
 "metadata": {
  "kernelspec": {
   "display_name": ".venv",
   "language": "python",
   "name": "python3"
  },
  "language_info": {
   "codemirror_mode": {
    "name": "ipython",
    "version": 3
   },
   "file_extension": ".py",
   "mimetype": "text/x-python",
   "name": "python",
   "nbconvert_exporter": "python",
   "pygments_lexer": "ipython3",
   "version": "3.13.7"
  }
 },
 "nbformat": 4,
 "nbformat_minor": 5
}
