{
 "cells": [
  {
   "cell_type": "markdown",
   "id": "cbed66f2",
   "metadata": {},
   "source": [
    "### **2011. Final Value of Variable After Performing Operations**\n",
    "##### There is a programming language with only **four** operations and **one** variable `X`:\n",
    "\n",
    "##### • `++X` and `X++` **increments** the value of the variable `X` by `1`.\n",
    "\n",
    "##### • `--X` and `X--` **decrements** the value of the variable `X` by `1`.\n",
    "\n",
    "##### Initially, the value of `X` is `0`.\n",
    "\n",
    "##### Given an array of strings **operations** containing a list of operations, return *the **final** value of* `X` *after performing all the operations*.\n",
    "\n",
    "<br>\n",
    "\n",
    "**Example 1:**\n",
    "> **Input:** operations = [\"--X\",\"X++\",\"X++\"] <br>\n",
    "> **Output:** 1 <br>\n",
    "> **Explanation:** The operations are performed as follows: <br>\n",
    "> Initially, X = 0. <br>\n",
    "> --X: X is decremented by 1, X =  0 - 1 = -1. <br>\n",
    "> X++: X is incremented by 1, X = -1 + 1 =  0. <br>\n",
    "> X++: X is incremented by 1, X =  0 + 1 =  1.\n",
    "\n",
    "**Example 2:**\n",
    "> **Input:** operations = [\"++X\",\"++X\",\"X++\"] <br>\n",
    "> **Output:** 3 <br>\n",
    "> **Explanation:** The operations are performed as follows: <br>\n",
    "> Initially, X = 0. <br>\n",
    "> ++X: X is incremented by 1, X = 0 + 1 = 1. <br>\n",
    "> ++X: X is incremented by 1, X = 1 + 1 = 2. <br>\n",
    "> X++: X is incremented by 1, X = 2 + 1 = 3.\n",
    "\n",
    "**Example 3:**\n",
    "> **Input:** operations = [\"X++\",\"++X\",\"--X\",\"X--\"] <br>\n",
    "> **Output:** 0 <br>\n",
    "> **Explanation:** The operations are performed as follows: <br>\n",
    "> Initially, X = 0. <br>\n",
    "> X++: X is incremented by 1, X = 0 + 1 = 1. <br>\n",
    "> ++X: X is incremented by 1, X = 1 + 1 = 2. <br>\n",
    "> --X: X is decremented by 1, X = 2 - 1 = 1. <br>\n",
    "> X--: X is decremented by 1, X = 1 - 1 = 0.\n",
    "\n",
    "<br>\n",
    "\n",
    "**Constraints:**\n",
    "- `1 <= operations.length <= 100`\n",
    "- `operations[i]` will be either `\"++X\"`, `\"X++\"`, `\"--X\"`, or `\"X--\"`."
   ]
  },
  {
   "cell_type": "code",
   "execution_count": 1,
   "id": "f75c00f7",
   "metadata": {},
   "outputs": [
    {
     "name": "stdout",
     "output_type": "stream",
     "text": [
      "1\n",
      "3\n",
      "0\n"
     ]
    }
   ],
   "source": [
    "# Code written in Python3\n",
    "from typing import List\n",
    "\n",
    "class Solution:\n",
    "    def finalValueAfterOperations(self, operations: List[str]) -> int:\n",
    "        return sum(1 if op[1] == \"+\" else -1 for op in operations)\n",
    "\n",
    "# Driver code to test Solution class\n",
    "sol = Solution()\n",
    "\n",
    "# Example 1\n",
    "operations1 = [\"--X\", \"X++\", \"X++\"]\n",
    "print(sol.finalValueAfterOperations(operations1))\n",
    "\n",
    "# Example 2\n",
    "operations2 = [\"++X\", \"++X\", \"X++\"]\n",
    "print(sol.finalValueAfterOperations(operations2))\n",
    "\n",
    "# Example 3\n",
    "operations3 = [\"X++\", \"++X\", \"--X\", \"X--\"]\n",
    "print(sol.finalValueAfterOperations(operations3))"
   ]
  }
 ],
 "metadata": {
  "kernelspec": {
   "display_name": ".venv",
   "language": "python",
   "name": "python3"
  },
  "language_info": {
   "codemirror_mode": {
    "name": "ipython",
    "version": 3
   },
   "file_extension": ".py",
   "mimetype": "text/x-python",
   "name": "python",
   "nbconvert_exporter": "python",
   "pygments_lexer": "ipython3",
   "version": "3.13.7"
  }
 },
 "nbformat": 4,
 "nbformat_minor": 5
}
