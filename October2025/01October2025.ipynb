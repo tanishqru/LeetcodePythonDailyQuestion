{
 "cells": [
  {
   "cell_type": "markdown",
   "id": "17c68c44",
   "metadata": {},
   "source": [
    "### **1518. Water Bottles**\n",
    "##### There are ```numBottles``` water bottles that are initially full of water. You can exchange ```numExchange``` empty water bottles from the market with one full water bottle.\n",
    "\n",
    "##### The operation of drinking a full water bottle turns it into an empty bottle.\n",
    "\n",
    "##### Given the two integers ```numBottles``` and ```numExchange```, return *the **maximum** number of water bottles you can drink*.\n",
    "\n",
    "<br>\n",
    "\n",
    "**Example 1:**\n",
    "> **Input:** numBottles = 9, numExchange = 3 <br>\n",
    "> **Output:** 13 <br>\n",
    "> **Explanation:** You can exchange 3 empty bottles to get 1 full water bottle. <br>\n",
    "> Number of water bottles you can drink: 9 + 3 + 1 = 13.\n",
    "\n",
    "**Example 2:**\n",
    "> **Input:** numBottles = 15, numExchange = 4 <br>\n",
    "> **Output:** 19 <br>\n",
    "> **Explanation:** You can exchange 4 empty bottles to get 1 full water bottle. <br>\n",
    "> Number of water bottles you can drink: 15 + 3 + 1 = 19.\n",
    " \n",
    "<br>\n",
    "\n",
    "**Constraints:**\n",
    "- ```1 <= numBottles <= 100```\n",
    "- ```2 <= numExchange <= 100```"
   ]
  },
  {
   "cell_type": "code",
   "execution_count": 1,
   "id": "117684e3",
   "metadata": {},
   "outputs": [
    {
     "name": "stdout",
     "output_type": "stream",
     "text": [
      "13\n",
      "19\n"
     ]
    }
   ],
   "source": [
    "# Code written in Python3\n",
    "\n",
    "class Solution:\n",
    "    def numWaterBottles(self, numBottles: int, numExchange: int) -> int:\n",
    "        consumed_bottles = 0\n",
    "\n",
    "        while numBottles >= numExchange:\n",
    "            K = numBottles // numExchange\n",
    "\n",
    "            consumed_bottles += numExchange * K\n",
    "            numBottles -= numExchange * K\n",
    "\n",
    "            numBottles += K\n",
    "\n",
    "        return consumed_bottles + numBottles\n",
    "    \n",
    "# Driver code to test the Solution class\n",
    "sol = Solution()\n",
    "print(sol.numWaterBottles(9, 3))\n",
    "print(sol.numWaterBottles(15, 4))"
   ]
  }
 ],
 "metadata": {
  "kernelspec": {
   "display_name": ".venv",
   "language": "python",
   "name": "python3"
  },
  "language_info": {
   "codemirror_mode": {
    "name": "ipython",
    "version": 3
   },
   "file_extension": ".py",
   "mimetype": "text/x-python",
   "name": "python",
   "nbconvert_exporter": "python",
   "pygments_lexer": "ipython3",
   "version": "3.13.7"
  }
 },
 "nbformat": 4,
 "nbformat_minor": 5
}
