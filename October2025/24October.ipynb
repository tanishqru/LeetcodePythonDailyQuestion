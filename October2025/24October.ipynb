{
 "cells": [
  {
   "cell_type": "markdown",
   "id": "e59fdc7f",
   "metadata": {},
   "source": [
    "### **2048. Next Greater Numerically Balanced Number**\n",
    "##### An integer `x` is **numerically balanced** if for every digit `d` in the number `x`, there are **exactly** `d` occurrences of that digit in `x`.\n",
    "\n",
    "##### Given an integer `n`, return *the **smallest numerically balanced** number **strictly greater** than* `n`.\n",
    "\n",
    "<br>\n",
    "\n",
    "**Example 1:**\n",
    "> **Input:** n = 1 <br>\n",
    "> **Output:** 22 <br>\n",
    "> **Explanation:** <br> \n",
    "> 22 is numerically balanced since: <br>\n",
    "> - The digit 2 occurs 2 times. <br>\n",
    "> It is also the smallest numerically balanced number strictly greater than 1.\n",
    "\n",
    "**Example 2:**\n",
    "> **Input:** n = 1000 <br>\n",
    "> **Output:** 1333 <br>\n",
    "> **Explanation:** <br>\n",
    "> 1333 is numerically balanced since: <br>\n",
    "> - The digit 1 occurs 1 time. <br>\n",
    "> - The digit 3 occurs 3 times. <br>\n",
    "> It is also the smallest numerically balanced number strictly greater than 1000. <br>\n",
    "> Note that 1022 cannot be the answer because 0 appeared more than 0 times.\n",
    "\n",
    "**Example 3:**\n",
    "> **Input:** n = 3000 <br>\n",
    "> **Output:** 3133 <br>\n",
    "> **Explanation:** <br>\n",
    "> 3133 is numerically balanced since: <br>\n",
    "> - The digit 1 occurs 1 time. <br>\n",
    "> - The digit 3 occurs 3 times. <br>\n",
    "> It is also the smallest numerically balanced number strictly greater than 3000.\n",
    "\n",
    "<br>\n",
    "\n",
    "**Constraints:**\n",
    "- `0 <= n <= 10^6`"
   ]
  },
  {
   "cell_type": "code",
   "execution_count": 2,
   "id": "f9ec6ec4",
   "metadata": {},
   "outputs": [
    {
     "name": "stdout",
     "output_type": "stream",
     "text": [
      "22\n",
      "1333\n",
      "3133\n"
     ]
    }
   ],
   "source": [
    "# Code written in Python3\n",
    "from collections import Counter\n",
    "\n",
    "class Solution:\n",
    "    def nextBeautifulNumber(self, n: int) -> int:\n",
    "        for i in range(n + 1, 1224445):\n",
    "            count = Counter(str(i))\n",
    "            if all(count[d] == int(d) for d in count):\n",
    "                return i\n",
    "\n",
    "# Driver code to test the Solution class\n",
    "sol = Solution()\n",
    "\n",
    "# Example 1\n",
    "print(sol.nextBeautifulNumber(1))\n",
    "\n",
    "# Example 2\n",
    "print(sol.nextBeautifulNumber(1000))\n",
    "\n",
    "# Example 3\n",
    "print(sol.nextBeautifulNumber(3000))"
   ]
  }
 ],
 "metadata": {
  "kernelspec": {
   "display_name": ".venv",
   "language": "python",
   "name": "python3"
  },
  "language_info": {
   "codemirror_mode": {
    "name": "ipython",
    "version": 3
   },
   "file_extension": ".py",
   "mimetype": "text/x-python",
   "name": "python",
   "nbconvert_exporter": "python",
   "pygments_lexer": "ipython3",
   "version": "3.13.7"
  }
 },
 "nbformat": 4,
 "nbformat_minor": 5
}
