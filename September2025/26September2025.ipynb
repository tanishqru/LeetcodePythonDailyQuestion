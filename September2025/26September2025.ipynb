{
 "cells": [
  {
   "cell_type": "markdown",
   "id": "b54e6d7d",
   "metadata": {},
   "source": [
    "### **611. Valid Triangle Number**\n",
    "##### Given an integer array ```nums```, return *the number of triplets chosen from the array that can make triangles if we take them as side lengths of a triangle.*\n",
    "\n",
    "<br>\n",
    "\n",
    "**Example 1:**\n",
    "> **Input:** nums = [2, 2, 3, 4] <br>\n",
    "> **Output:** 3 <br>\n",
    "> **Explanation:** Valid combinations are: <br>\n",
    "> 2, 3, 4 (using the first 2) <br>\n",
    "> 2, 3, 4 (using the second 2) <br>\n",
    "> 2, 2, 3\n",
    "\n",
    "**Example 2:**\n",
    "> **Input:** nums = [4, 2, 3, 4] <br>\n",
    "> **Output:** 4\n",
    "\n",
    "<br>\n",
    "\n",
    "**Constraints:**\n",
    "- ```1 <= nums.length <= 1000```\n",
    "- ```0 <= nums[i] <= 1000```"
   ]
  },
  {
   "cell_type": "code",
   "execution_count": 1,
   "id": "19760de3",
   "metadata": {},
   "outputs": [
    {
     "name": "stdout",
     "output_type": "stream",
     "text": [
      "3\n",
      "4\n"
     ]
    }
   ],
   "source": [
    "# Code written in Python3\n",
    "from typing import List\n",
    "\n",
    "class Solution:\n",
    "    def triangleNumber(self, nums: List[int]) -> int:\n",
    "        nums.sort()\n",
    "        n = len(nums)\n",
    "        count = 0\n",
    "\n",
    "        for i in range(n - 1, -1, -1):\n",
    "            left, right = 0, i - 1\n",
    "            while left < right:\n",
    "                if nums[left] + nums[right] > nums[i]:\n",
    "                    count += right - left\n",
    "                    right -= 1\n",
    "                else:\n",
    "                    left += 1\n",
    "        return count\n",
    "    \n",
    "# Driver code to test the Solution class\n",
    "sol = Solution()\n",
    "print(sol.triangleNumber([2, 2, 3, 4]))\n",
    "print(sol.triangleNumber([4, 2, 3, 4]))"
   ]
  }
 ],
 "metadata": {
  "kernelspec": {
   "display_name": ".venv",
   "language": "python",
   "name": "python3"
  },
  "language_info": {
   "codemirror_mode": {
    "name": "ipython",
    "version": 3
   },
   "file_extension": ".py",
   "mimetype": "text/x-python",
   "name": "python",
   "nbconvert_exporter": "python",
   "pygments_lexer": "ipython3",
   "version": "3.13.7"
  }
 },
 "nbformat": 4,
 "nbformat_minor": 5
}
