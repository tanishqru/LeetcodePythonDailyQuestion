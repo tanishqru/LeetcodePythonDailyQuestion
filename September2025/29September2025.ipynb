{
 "cells": [
  {
   "cell_type": "markdown",
   "id": "21777582",
   "metadata": {},
   "source": [
    "### **1039. Minimum Score Triangulation of Polygon**\n",
    "##### You have a convex ```n```-sided polygon where each vertex has an integer value. You are given an integer array ```values``` where ```values[i]``` is the value of the $i^{th}$ vertex in **clockwise order**.\n",
    "\n",
    "##### **Polygon triangulation** is a process where you divide a polygon into a set of triangles and the vertices of each triangle must also be vertices of the original polygon. Note that no other shapes other than triangles are allowed in the division. This process will result in ```n - 2``` triangles.\n",
    "\n",
    "##### You will **triangulate** the polygon. For each triangle, the *weight* of that triangle is the product of the values at its vertices. The total score of the triangulation is the sum of these *weights* over all ```n - 2``` triangles.\n",
    "\n",
    "##### Return the *minimum possible score* that you can achieve with some **triangulation** of the polygon.\n",
    "\n",
    "<br>\n",
    "\n",
    "**Example 1:**\n",
    "> **Input:** values = [1,2,3] <br>\n",
    "> **Output:** 6 <br>\n",
    "> **Explanation:** The polygon is already triangulated, and the score of the only triangle is 6.\n",
    "\n",
    "**Example 2:**\n",
    "> **Input:** values = [3,7,4,5] <br>\n",
    "> **Output:** 144 <br>\n",
    "> **Explanation:** There are two triangulations, with possible scores: 3*7*5 + 4*5*7 = 245, or 3*4*5 + 3*4*7 = 144. <br>\n",
    "> The minimum score is 144.\n",
    "\n",
    "**Example 3:**\n",
    "> **Input:** values = [1,3,1,4,1,5] <br>\n",
    "> **Output:** 13 <br>\n",
    "> **Explanation:** The minimum score triangulation is 1*1*3 + 1*1*4 + 1*1*5 + 1*1*1 = 13.\n",
    "\n",
    "<br>\n",
    "\n",
    "**Constraints:**\n",
    "- ```n == values.length```\n",
    "- ```3 <= n <= 50```\n",
    "- ```1 <= values[i] <= 100```"
   ]
  },
  {
   "cell_type": "code",
   "execution_count": 1,
   "id": "7d00c9cf",
   "metadata": {},
   "outputs": [
    {
     "name": "stdout",
     "output_type": "stream",
     "text": [
      "6\n",
      "144\n",
      "13\n"
     ]
    }
   ],
   "source": [
    "# Code written in Python3\n",
    "from typing import List\n",
    "\n",
    "class Solution:\n",
    "    def minScoreTriangulation(self, polygonValues: list[int]) -> int:\n",
    "        vertexCount = len(polygonValues)\n",
    "        minScore = [[0] * vertexCount for _ in range(vertexCount)]\n",
    "\n",
    "        for gap in range(2, vertexCount):\n",
    "            for start in range(vertexCount - gap):\n",
    "                end = start + gap\n",
    "                currentMinScore = 1 << 30\n",
    "\n",
    "                for mid in range(start + 1, end):\n",
    "                    triangleScore = (\n",
    "                        minScore[start][mid]\n",
    "                        + minScore[mid][end]\n",
    "                        + polygonValues[start] * polygonValues[mid] * polygonValues[end]\n",
    "                    )\n",
    "                    if triangleScore < currentMinScore:\n",
    "                        currentMinScore = triangleScore\n",
    "\n",
    "                minScore[start][end] = currentMinScore\n",
    "\n",
    "        return minScore[0][vertexCount - 1]\n",
    "\n",
    "# Driver code to test the Solution class\n",
    "sol = Solution()\n",
    "print(sol.minScoreTriangulation([1, 2, 3]))\n",
    "print(sol.minScoreTriangulation([3, 7, 4, 5]))\n",
    "print(sol.minScoreTriangulation([1, 3, 1, 4, 1, 5]))"
   ]
  }
 ],
 "metadata": {
  "kernelspec": {
   "display_name": ".venv",
   "language": "python",
   "name": "python3"
  },
  "language_info": {
   "codemirror_mode": {
    "name": "ipython",
    "version": 3
   },
   "file_extension": ".py",
   "mimetype": "text/x-python",
   "name": "python",
   "nbconvert_exporter": "python",
   "pygments_lexer": "ipython3",
   "version": "3.13.7"
  }
 },
 "nbformat": 4,
 "nbformat_minor": 5
}
