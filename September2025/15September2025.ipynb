{
 "cells": [
  {
   "cell_type": "markdown",
   "id": "b8b49f3d",
   "metadata": {},
   "source": [
    "### **1935. Maximum Number of Words You Can Type**\n",
    "##### There is a malfunctioning keyboard where some letter keys do not work. All other keys on the keyboard work properly.\n",
    "\n",
    "##### Given a string `text` of words separated by a single space (no leading or trailing spaces) and a string `brokenLetters` of all **distinct** letter keys that are broken, return *the **number of words** in* `text` *you can fully type using this keyboard.*\n",
    "\n",
    "<br>\n",
    "\n",
    "**Example 1:** <br>\n",
    "> **Input:** text = \"hello world\", brokenLetters = \"ad\" <br>\n",
    "> **Output:** 1 <br>\n",
    "> **Explanation:** We cannot type \"world\" because the 'd' key is broken.\n",
    "\n",
    "**Example 2:** <br>\n",
    "> **Input:** text = \"leet code\", brokenLetters = \"lt\" <br>\n",
    "> **Output:** 1 <br>\n",
    "> **Explanation:** We cannot type \"leet\" because the 'l' and 't' keys are broken.\n",
    "\n",
    "**Example 3:** <br>\n",
    "> **Input:** text = \"leet code\", brokenLetters = \"e\" <br>\n",
    "> **Output:** 0 <br>\n",
    "> **Explanation:** We cannot type either word because the 'e' key is broken.\n",
    "\n",
    "<br>\n",
    "\n",
    "**Constraints:**\n",
    "- `1 <= text.length <= 10^4`\n",
    "- `0 <= brokenLetters.length <= 26`\n",
    "- `text` consists of words separated by a single space without any leading or trailing spaces.\n",
    "- Each word only consists of lowercase English letters.\n",
    "- `brokenLetters` consists of **distinct** lowercase English letters."
   ]
  },
  {
   "cell_type": "code",
   "execution_count": 1,
   "id": "270216d2",
   "metadata": {},
   "outputs": [
    {
     "name": "stdout",
     "output_type": "stream",
     "text": [
      "1\n",
      "1\n",
      "0\n"
     ]
    }
   ],
   "source": [
    "# Code written in Python3\n",
    "\n",
    "class Solution:\n",
    "    def canBeTypedWords(self, text: str, broken: str) -> int:\n",
    "        brokenKeys = set(broken)\n",
    "        words = text.split(\" \")\n",
    "        count = 0\n",
    "\n",
    "        for word in words:\n",
    "            for c in word:\n",
    "                if c in brokenKeys:\n",
    "                    count += 1\n",
    "                    break\n",
    "\n",
    "        return len(words) - count\n",
    "\n",
    "sol = Solution()\n",
    "print(sol.canBeTypedWords(\"hello world\", \"ad\"))\n",
    "print(sol.canBeTypedWords(\"leet code\", \"lt\"))\n",
    "print(sol.canBeTypedWords(\"leet code\", \"e\"))"
   ]
  }
 ],
 "metadata": {
  "kernelspec": {
   "display_name": ".venv",
   "language": "python",
   "name": "python3"
  },
  "language_info": {
   "codemirror_mode": {
    "name": "ipython",
    "version": 3
   },
   "file_extension": ".py",
   "mimetype": "text/x-python",
   "name": "python",
   "nbconvert_exporter": "python",
   "pygments_lexer": "ipython3",
   "version": "3.13.7"
  }
 },
 "nbformat": 4,
 "nbformat_minor": 5
}
