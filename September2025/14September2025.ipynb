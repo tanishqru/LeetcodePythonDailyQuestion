{
 "cells": [
  {
   "cell_type": "markdown",
   "id": "b111bac9",
   "metadata": {},
   "source": [
    "### **966. Vowel Spellchecker**\n",
    "##### Given a ```wordlist```, we want to implement a spellcheck that converts a query word into a correct word.\n",
    "\n",
    "##### For a given ```query``` word, the spell checker handles two categories of spelling mistakes:\n",
    "\n",
    "##### - Capitalization: If the query matches a word in the wordlist **(case-insensitive)**, then the query word is returned with the same case as the in the wordlist.\n",
    "\n",
    "##### -- Example: ```wordlist = [\"yellow\"]```, ```query = \"YellOw\"```: ```correct = \"yellow\"```\n",
    "\n",
    "##### -- Example: ```wordlist = [\"Yellow\"]```, ```query = \"yellow\"```: ```correct = \"Yellow\"```\n",
    "\n",
    "##### -- Example: ```wordlist = [\"yellow\"]```, ```query = \"yellow\"```: ```correct = \"yellow\"```\n",
    "\n",
    "##### - Vowels Errors: If after replacing the vowels ```('a', 'e', 'i', 'o', 'u')``` of the query word with any vowel induvidually, it matches a word in the wordlist (**case-insensitive**), then the query word is returned with the same case as the match in the wordlist.\n",
    "\n",
    "##### -- Example: ```wordlist = [\"YellOw\"]```, ```query = \"yollow\"```: ```correct = \"YellOw\"```\n",
    "\n",
    "##### -- Example: ```wordlist = [\"YellOw\"]```, ```query = \"yeellow\"```: ```correct = \"\"``` (no match)\n",
    "\n",
    "##### -- Example: ```wordlist = [\"YellOw\"]```, ```query = \"yllw\"```: ```correct = \"\"``` (no match)\n",
    "\n",
    "##### In addition, the spell checker operates under the following precedence rules:\n",
    "\n",
    "##### - When the query exactly matches a word in the wordlist (**case-insensitive**), you should return the same word back.\n",
    "\n",
    "##### - When the query matches a word up to capitalization, you should return the first such match in the wordlist.\n",
    "\n",
    "##### - When the query matches a word up to vowel errors, you should return the first such match in the wordlist.\n",
    "\n",
    "##### - If the query has no matches in the wordlist, you should return the empty string.\n",
    "\n",
    "##### Given some ```queries```, return a list of words ```answer```, where ```answer[i]``` is the correct word for ```query = queries[i]```.\n",
    "\n",
    "<br>\n",
    "\n",
    "**Example 1:** <br>\n",
    "> **Input:** wordlist = <br>\n",
    "> [\"KiTe\",\"kite\",\"hare\",\"Hare\"], queries = [\"kite\",\"Kite\",\"KiTe\",\"Hare\",\"HARE\",\"Hear\",\"hear\" \"keti\",\"keet\",\"keto\"] <br>\n",
    "> **Output:** <br>\n",
    "> [\"kite\",\"KiTe\",\"KiTe\",\"Hare\",\"hare\",\"\",\"\" \"KiTe\",\"\",\"KiTe\"]\n",
    "\n",
    "**Example 2:** <br>\n",
    "> **Input:** wordlist = [\"yellow\"], queries = [\"YellOw\"] <br>\n",
    "> Output: [\"yellow\"]\n",
    "\n",
    "<br>\n",
    "\n",
    "**Constraints:**\n",
    "- ```1 <= wordlist.length, queries.length <= 5000```\n",
    "- ```1 <= wordlist[i].length, queries[i].length <= 7```\n",
    "- ```wordlist[i]``` and ```queries[i]``` consist only of only English letters."
   ]
  },
  {
   "cell_type": "code",
   "execution_count": 1,
   "id": "4245fa47",
   "metadata": {},
   "outputs": [
    {
     "name": "stdout",
     "output_type": "stream",
     "text": [
      "['kite', 'KiTe', 'KiTe', 'Hare', 'hare', '', '', 'KiTe', '', 'KiTe']\n",
      "['yellow']\n"
     ]
    }
   ],
   "source": [
    "# Code written in Python\n",
    "\n",
    "class Solution(object):\n",
    "    def spellchecker(self, wordlist, queries):\n",
    "        def devowel(word):\n",
    "            return \"\".join('*' if c in 'aeiou' else c\n",
    "                           for c in word)\n",
    "\n",
    "        words_perfect = set(wordlist)\n",
    "        words_cap = {}\n",
    "        words_vow = {}\n",
    "\n",
    "        for word in wordlist:\n",
    "            wordlow = word.lower()\n",
    "            words_cap.setdefault(wordlow, word)\n",
    "            words_vow.setdefault(devowel(wordlow), word)\n",
    "\n",
    "        def solve(query):\n",
    "            if query in words_perfect:\n",
    "                return query\n",
    "\n",
    "            queryL = query.lower()\n",
    "            if queryL in words_cap:\n",
    "                return words_cap[queryL]\n",
    "\n",
    "            queryLV = devowel(queryL)\n",
    "            if queryLV in words_vow:\n",
    "                return words_vow[queryLV]\n",
    "            return \"\"\n",
    "\n",
    "        return map(solve, queries)\n",
    "\n",
    "sol = Solution()\n",
    "print(list(sol.spellchecker([\"KiTe\",\"kite\",\"hare\",\"Hare\"], [\"kite\",\"Kite\",\"KiTe\",\"Hare\",\"HARE\",\"Hear\",\"hear\",\"keti\",\"keet\",\"keto\"])))\n",
    "print(list(sol.spellchecker([\"yellow\"], [\"YellOw\"])))"
   ]
  }
 ],
 "metadata": {
  "kernelspec": {
   "display_name": ".venv",
   "language": "python",
   "name": "python3"
  },
  "language_info": {
   "codemirror_mode": {
    "name": "ipython",
    "version": 3
   },
   "file_extension": ".py",
   "mimetype": "text/x-python",
   "name": "python",
   "nbconvert_exporter": "python",
   "pygments_lexer": "ipython3",
   "version": "3.13.7"
  }
 },
 "nbformat": 4,
 "nbformat_minor": 5
}
