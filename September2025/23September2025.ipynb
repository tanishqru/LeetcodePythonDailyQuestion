{
 "cells": [
  {
   "cell_type": "markdown",
   "id": "ab22fe52",
   "metadata": {},
   "source": [
    "### **165. Compare Version Numbers**"
   ]
  }
 ],
 "metadata": {
  "kernelspec": {
   "display_name": ".venv",
   "language": "python",
   "name": "python3"
  },
  "language_info": {
   "name": "python",
   "version": "3.13.7"
  }
 },
 "nbformat": 4,
 "nbformat_minor": 5
}
