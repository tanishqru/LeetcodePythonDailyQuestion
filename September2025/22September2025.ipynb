{
 "cells": [
  {
   "cell_type": "markdown",
   "id": "3ea9d3cc",
   "metadata": {},
   "source": [
    "### **3005. Count Elements With Maximum Frequency**"
   ]
  }
 ],
 "metadata": {
  "language_info": {
   "name": "python"
  }
 },
 "nbformat": 4,
 "nbformat_minor": 5
}
