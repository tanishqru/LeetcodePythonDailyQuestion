{
 "cells": [
  {
   "cell_type": "markdown",
   "id": "8734085b",
   "metadata": {},
   "source": [
    "### **1733. Minimum Number of People to Teach**\n",
    "##### On a social network consisting of ```m``` users and some friendships between users, two users can communicate with each other if they know a common language.\n",
    "\n",
    "##### You are given an integer ```n```, an array ```languages```, and an array ```friendships``` where:\n",
    "##### - There are ```n``` languages numbered ```1``` through ```n```,\n",
    "##### - ```languages[i]``` is the set of languages the $i^{th}$ user knows, and\n",
    "##### - ```friendships[i]``` = [$u_i$, $v_i$] denotes a friendship between the users $u_i$ and $v_i$.\n",
    "\n",
    "##### You can choose **one** language and teach it to some users so that all friends can communicate with each other. Return *the **minimum** number of users you need to teach.*\n",
    "\n",
    "##### Note that friendships are not transitive, meaning if ```x``` is a friend of ```y``` and ```y``` is a friend of ```z```, this doesn't guarentee that ```x``` is a friend of ```z```.\n",
    "\n",
    "<br>\n",
    "\n",
    "**Example 1:** <br>\n",
    "> **Input:** n = 2, languages = [[1], [2], [1, 2]], friendships = [[1, 2], [1, 3], [2, 3]] <br>\n",
    "> **Output:** 1 <br>\n",
    "> **Explanation:** You can either teach user 1 the second language or user 2 the first language.\n",
    "\n",
    "**Example 2:** <br>\n",
    "> **Input:** n = 3, languages = [[2], [1, 3], [1, 2], [3]], friendships = [[1, 4],[1, 2],[3, 4],[2, 3]] <br>\n",
    "> **Output:** 2 <br>\n",
    "> **Explanation:** Teach the third language to users 1 and 3, yielding two users to teach. \n",
    "\n",
    "<br>\n",
    "\n",
    "**Constraints:**\n",
    "- ```2 <= n <= 500```\n",
    "- ```languages.length == m```\n",
    "- ```1 <= m <= 500```"
   ]
  },
  {
   "cell_type": "code",
   "execution_count": 2,
   "id": "bbe5f680",
   "metadata": {},
   "outputs": [
    {
     "name": "stdout",
     "output_type": "stream",
     "text": [
      "1\n",
      "2\n"
     ]
    }
   ],
   "source": [
    "from typing import List\n",
    "\n",
    "class Solution:\n",
    "    def minimumTeachings(\n",
    "        self, n: int, languages: List[List[int]], friendships: List[List[int]]\n",
    "    ) -> int:\n",
    "        cncon = set()\n",
    "        for friendship in friendships:\n",
    "            mp = {}\n",
    "            conm = False\n",
    "            for lan in languages[friendship[0] - 1]:\n",
    "                mp[lan] = 1\n",
    "            for lan in languages[friendship[1] - 1]:\n",
    "                if lan in mp:\n",
    "                    conm = True\n",
    "                    break\n",
    "            if not conm:\n",
    "                cncon.add(friendship[0] - 1)\n",
    "                cncon.add(friendship[1] - 1)\n",
    "\n",
    "        max_cnt = 0\n",
    "        cnt = [0] * (n + 1)\n",
    "        for friendship in cncon:\n",
    "            for lan in languages[friendship]:\n",
    "                cnt[lan] += 1\n",
    "                max_cnt = max(max_cnt, cnt[lan])\n",
    "\n",
    "        return len(cncon) - max_cnt\n",
    "\n",
    "sol = Solution()\n",
    "print(sol.minimumTeachings(2, [[1], [2], [1, 2]], [[1, 2], [1, 3], [2, 3]]))\n",
    "print(sol.minimumTeachings(3, [[2], [1, 3], [1, 2], [3]], [[1, 4], [1, 2], [3, 4], [2, 3]]))"
   ]
  }
 ],
 "metadata": {
  "kernelspec": {
   "display_name": ".venv",
   "language": "python",
   "name": "python3"
  },
  "language_info": {
   "codemirror_mode": {
    "name": "ipython",
    "version": 3
   },
   "file_extension": ".py",
   "mimetype": "text/x-python",
   "name": "python",
   "nbconvert_exporter": "python",
   "pygments_lexer": "ipython3",
   "version": "3.13.7"
  }
 },
 "nbformat": 4,
 "nbformat_minor": 5
}
