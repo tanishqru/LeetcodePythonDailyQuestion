{
 "cells": [
  {
   "cell_type": "markdown",
   "id": "e6a8c252",
   "metadata": {},
   "source": [
    "### **812. Largest Triangle Area**\n",
    "##### Given an array of points on the **X-Y** plane ```points``` where ```points[i]``` = [$x_i$, $y_i$], return *the area of the largest triangle that can be formed by any three different points.* Answers within $10^{-5}$ of the actual answer will be accepted.\n",
    "\n",
    "<br>\n",
    "\n",
    "**Example 1:**\n",
    "> **Input:** points = [[0,0],[0,1],[1,0],[0,2],[2,0]] <br>\n",
    "> **Output:** 2.00000 <br>\n",
    "> **Explanation:** The five points are shown in the above figure. The red triangle is the largest.\n",
    "\n",
    "**Example 2:**\n",
    "> **Input:** points = [[1,0],[0,0],[0,1]] <br>\n",
    "> **Output:** 0.50000\n",
    "\n",
    "<br>\n",
    "\n",
    "**Constraints:**\n",
    "> ```3 <= points.length <= 50```\n",
    "> -50 <= $x_i$, $y_i$ <= 50\n",
    "> All the given points are **unique**."
   ]
  },
  {
   "cell_type": "code",
   "execution_count": 1,
   "id": "f114e6c4",
   "metadata": {},
   "outputs": [
    {
     "name": "stdout",
     "output_type": "stream",
     "text": [
      "2.0\n",
      "0.5\n"
     ]
    }
   ],
   "source": [
    "# Code written in Python3\n",
    "from typing import List\n",
    "\n",
    "class Solution:\n",
    "    def largestTriangleArea(self, points: List[List[int]]) -> float:\n",
    "        max_area = 0\n",
    "        n = len(points)\n",
    "\n",
    "        for i in range(n):\n",
    "            for j in range(i + 1, n):\n",
    "                for k in range(j + 1, n):\n",
    "                    x1, y1 = points[i]\n",
    "                    x2, y2 = points[j]\n",
    "                    x3, y3 = points[k]\n",
    "                    current_area = abs(0.5 * (x1*(y2-y3) + x2*(y3-y1) + x3*(y1-y2)))\n",
    "                    max_area = max(max_area, current_area)\n",
    "                    \n",
    "        return max_area\n",
    "\n",
    "sol = Solution()\n",
    "print(sol.largestTriangleArea([[0,0],[0,1],[1,0],[0,2],[2,0]]))\n",
    "print(sol.largestTriangleArea([[1,0],[0,0],[0,1]]))"
   ]
  }
 ],
 "metadata": {
  "kernelspec": {
   "display_name": ".venv",
   "language": "python",
   "name": "python3"
  },
  "language_info": {
   "codemirror_mode": {
    "name": "ipython",
    "version": 3
   },
   "file_extension": ".py",
   "mimetype": "text/x-python",
   "name": "python",
   "nbconvert_exporter": "python",
   "pygments_lexer": "ipython3",
   "version": "3.13.7"
  }
 },
 "nbformat": 4,
 "nbformat_minor": 5
}
