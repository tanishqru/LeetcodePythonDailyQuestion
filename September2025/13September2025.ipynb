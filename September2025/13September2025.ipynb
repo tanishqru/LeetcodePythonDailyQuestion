{
 "cells": [
  {
   "cell_type": "markdown",
   "id": "559643b7",
   "metadata": {},
   "source": [
    "### **3541. Find Most Frequent Vowel and Consonant**\n",
    "##### You are given a string `s` consisting of lowercase English letters (`'a'` to `'z'`).\n",
    "\n",
    "##### Your task is to:\n",
    "\n",
    "##### • Find the vowel (one of `'a'`, `'e'`, `'i'`, `'o'`, or `'u'`) with the **maximum** frequency.\n",
    "\n",
    "##### • Find the consonant (all other letters excluding vowels) with the **maximum** frequency.\n",
    "\n",
    "##### Return the sum of the two frequencies.\n",
    "\n",
    "##### **Note:** If multiple vowels or consonants have the same maximum frequency, you may choose any one of them. If there are no vowels or no consonants in the string, consider their frequency as 0.\n",
    "\n",
    "##### The **frequency** of a letter `x` is the number of times it occurs in the string.\n",
    "\n",
    "<br>\n",
    "\n",
    "**Example 1:** <br>\n",
    "> **Input:** s = \"successes\" <br>\n",
    "> **Output:** 6 <br>\n",
    "> **Explanation:** <br>\n",
    "> - The vowels are: `'u'` (frequency 1), `'e'` (frequency 2). The maximum frequency is 2. <br>\n",
    "> - The consonants are: `'s'` (frequency 4), `'c'` (frequency 2). The maximum frequency is 4. <br>\n",
    "> - The output is `2 + 4 = 6`.\n",
    "\n",
    "**Example 2:** <br>\n",
    "> **Input:** s = \"aeiaeia\" <br>\n",
    "> **Output:** 3 <br>\n",
    "> **Explanation:** <br>\n",
    "> - The vowels are: `'a'` (frequency 3), `'e'` (frequency 2), `'i'` (frequency 2). The maximum frequency is 3. <br>\n",
    "> - There are no consonants in `s`. Hence, maximum consonant frequency = 0. <br>\n",
    "> - The output is `3 + 0 = 3`.\n",
    "\n",
    "**Constraints:** <br>\n",
    "- `1 <= s.length <= 100`\n",
    "- `s` consists of lowercase English letters only."
   ]
  },
  {
   "cell_type": "code",
   "execution_count": null,
   "id": "8203c646",
   "metadata": {},
   "outputs": [
    {
     "name": "stdout",
     "output_type": "stream",
     "text": [
      "6\n",
      "3\n"
     ]
    }
   ],
   "source": [
    "# Code written in Python3\n",
    "from collections import Counter\n",
    "\n",
    "class Solution:\n",
    "    def maxFreqSum(self, s: str) -> int:\n",
    "        mp = Counter(s)\n",
    "        vowel = max((mp[ch] for ch in mp if ch in \"aeiou\"), default=0)\n",
    "        consonant = max((mp[ch] for ch in mp if ch not in \"aeiou\"), default=0)\n",
    "        return vowel + consonant\n",
    "\n",
    "sol = Solution()\n",
    "print(sol.maxFreqSum(\"successes\"))\n",
    "print(sol.maxFreqSum(\"aeiaeia\"))"
   ]
  }
 ],
 "metadata": {
  "kernelspec": {
   "display_name": ".venv",
   "language": "python",
   "name": "python3"
  },
  "language_info": {
   "codemirror_mode": {
    "name": "ipython",
    "version": 3
   },
   "file_extension": ".py",
   "mimetype": "text/x-python",
   "name": "python",
   "nbconvert_exporter": "python",
   "pygments_lexer": "ipython3",
   "version": "3.13.7"
  }
 },
 "nbformat": 4,
 "nbformat_minor": 5
}
