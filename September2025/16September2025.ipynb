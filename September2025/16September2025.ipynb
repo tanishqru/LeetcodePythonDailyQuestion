{
 "cells": [
  {
   "cell_type": "markdown",
   "id": "e588b5d7",
   "metadata": {},
   "source": [
    "### **2197. Replace Non-Coprime Numbers in Array**\n",
    "##### You are given an array of integers `nums`. Perform the following steps:\n",
    "\n",
    "##### 1. Find **any** two **adjacent** numbers in `nums` that are **non-coprime**.\n",
    "\n",
    "##### 2. If no such numbers are found, **stop** the process.\n",
    "\n",
    "##### 3. Otherwise, delete the two numbers are **replace** them with their **LCM (Least Common Multiple)**.\n",
    "\n",
    "##### 4. **Repeat** this process as long as you keep finding two adjacent non-coprime numbers.\n",
    "\n",
    "##### Return *the **final** modified array*. It can be shown that replacing adjacent non-coprime numbers in **any** arbitrary order will lead to the same result.\n",
    "\n",
    "##### The test cases are generated such that the values in the final array are **less than or equal** to `10^8`.\n",
    "\n",
    "##### Two values `x` and `y` are **non-coprime** if `GCD(x, y) > 1` where `GCD(x, y)` is the **Greatest Common Divisor** of `x` and `y`.\n",
    "\n",
    "<br>\n",
    "\n",
    "**Example 1:** <br>\n",
    "> **Input:** nums = [6,4,3,2,7,6,2] <br>\n",
    "> **Output:** [12,7,6] <br>\n",
    "> **Explanation:** <br>\n",
    "> - (6, 4) are non-coprime with LCM(6, 4) = 12. Now, nums = [**<u>12</u>**,3,2,7,6,2]. <br>\n",
    "> - (12, 3) are non-coprime with LCM(12, 3) = 12. Now, nums = [**<u>12</u>**,2,7,6,2]. <br>\n",
    "> - (12, 2) are non-coprime with LCM(12, 2) = 12. Now, nums = [**<u>12</u>**,7,6,2]. <br>\n",
    "> - (6, 2) are non-coprime with LCM(6, 2) = 6. Now, nums = [12,7,**<u>6</u>**]. <br>\n",
    "> There are no more adjacent non-coprime numbers in nums. <br>\n",
    "> Thus, the final modified array is [12,7,6]. <br>\n",
    "> Note that there are other ways to obtain the same resultant array.\n",
    "\n",
    "**Example 2:** <br>\n",
    "> **Input:** nums = [2,2,1,1,3,3,3] <br>\n",
    "> **Output:** [2,1,1,3] <br>\n",
    "> **Explanation:** <br>\n",
    "> - (3, 3) are non-coprime with LCM(3, 3) = 3. Now, nums = [2,2,1,1,**<u>3</u>**,3]. <br>\n",
    "> - (3, 3) are non-coprime with LCM(3, 3) = 3. Now, nums = [2,2,1,1,**<u>3</u>**]. <br>\n",
    "> - (2, 2) are non-coprime with LCM(2, 2) = 2. Now, nums = [**<u>2</u>**,1,1,3]. <br>\n",
    "> There are no more adjacent non-coprime numbers in nums. <br>\n",
    "> Thus, the final modified array is [2,1,1,3]. <br>\n",
    "> Note that there are other ways to obtain the same resultant array. <br>\n",
    "\n",
    "<br>\n",
    "\n",
    "**Constraints:**\n",
    "- `1 <= nums.length <= 10^5`\n",
    "- `1 <= nums[i] <= 10^5`\n",
    "- The test cases are generated such that the values in the final array are **less than or equal** to `10^8`."
   ]
  },
  {
   "cell_type": "code",
   "execution_count": 1,
   "id": "e0ba06c4",
   "metadata": {},
   "outputs": [
    {
     "name": "stdout",
     "output_type": "stream",
     "text": [
      "[12, 7, 6]\n",
      "[2, 1, 1, 3]\n"
     ]
    }
   ],
   "source": [
    "# Code written in Python3\n",
    "import math\n",
    "from typing import List\n",
    "\n",
    "class Solution:\n",
    "    def replaceNonCoprimes(self, nums: List[int]) -> List[int]:\n",
    "        stack = []\n",
    "        for num in nums:\n",
    "            while stack and math.gcd(stack[-1], num) > 1:\n",
    "                top = stack.pop()\n",
    "                num = (top * num) // math.gcd(top, num)\n",
    "            stack.append(num)\n",
    "        return stack\n",
    "\n",
    "sol = Solution()\n",
    "print(sol.replaceNonCoprimes([6, 4, 3, 2, 7, 6, 2]))\n",
    "print(sol.replaceNonCoprimes([2, 2, 1, 1, 3, 3, 3]))"
   ]
  }
 ],
 "metadata": {
  "kernelspec": {
   "display_name": ".venv",
   "language": "python",
   "name": "python3"
  },
  "language_info": {
   "codemirror_mode": {
    "name": "ipython",
    "version": 3
   },
   "file_extension": ".py",
   "mimetype": "text/x-python",
   "name": "python",
   "nbconvert_exporter": "python",
   "pygments_lexer": "ipython3",
   "version": "3.13.7"
  }
 },
 "nbformat": 4,
 "nbformat_minor": 5
}
