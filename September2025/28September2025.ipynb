{
 "cells": [
  {
   "cell_type": "markdown",
   "id": "3299ef70",
   "metadata": {},
   "source": [
    "### **976. Largest Perimeter Traingle**\n",
    "##### Given an integer array ```nums```, return *the largest perimeter of a triangle with a non-zero area, formed from three of these lengths.* If it is impossible to form any triangle of a non-zero area, return ```0```.\n",
    "\n",
    "<br>\n",
    "\n",
    "**Example 1:**\n",
    "> **Input:** nums = [2,1,2] <br>\n",
    "> **Output:** 5 <br>\n",
    "> **Explanation:** You can form a triangle with three side lengths: 1, 2, and 2.\n",
    "\n",
    "**Example 2:**\n",
    "> **Input:** nums = [1,2,1,10] <br>\n",
    "> **Output:** 0 <br>\n",
    "> **Explanation:** <br>\n",
    "> You cannot use the side lengths 1, 1, and 2 to form a triangle. <br>\n",
    "> You cannot use the side lengths 1, 1, and 10 to form a triangle. <br>\n",
    "> You cannot use the side lengths 1, 2, and 10 to form a triangle. <br>\n",
    "> As we cannot use any three side lengths to form a triangle of non-zero area, we return 0.\n",
    " \n",
    "<br>\n",
    "\n",
    "**Constraints:**\n",
    "- ```3 <= nums.length <= 10^4```\n",
    "- ```1 <= nums[i] <= 10^6```"
   ]
  },
  {
   "cell_type": "code",
   "execution_count": 1,
   "id": "799467c2",
   "metadata": {},
   "outputs": [
    {
     "name": "stdout",
     "output_type": "stream",
     "text": [
      "5\n",
      "0\n"
     ]
    }
   ],
   "source": [
    "# Code written in Python3\n",
    "from typing import List\n",
    "\n",
    "class Solution:\n",
    "    def largestPerimeter(self, nums: List[int]) -> int:\n",
    "        nums.sort(reverse=True)\n",
    "        for i in range(len(nums) - 2):\n",
    "            if nums[i + 1] + nums[i + 2] > nums[i]:\n",
    "                return nums[i] + nums[i + 1] + nums[i + 2]\n",
    "        return 0\n",
    "\n",
    "#Driver code to test solution class\n",
    "sol = Solution()\n",
    "print(sol.largestPerimeter([2,1,2]))\n",
    "print(sol.largestPerimeter([1,2,1,10]))"
   ]
  }
 ],
 "metadata": {
  "kernelspec": {
   "display_name": ".venv",
   "language": "python",
   "name": "python3"
  },
  "language_info": {
   "codemirror_mode": {
    "name": "ipython",
    "version": 3
   },
   "file_extension": ".py",
   "mimetype": "text/x-python",
   "name": "python",
   "nbconvert_exporter": "python",
   "pygments_lexer": "ipython3",
   "version": "3.13.7"
  }
 },
 "nbformat": 4,
 "nbformat_minor": 5
}
