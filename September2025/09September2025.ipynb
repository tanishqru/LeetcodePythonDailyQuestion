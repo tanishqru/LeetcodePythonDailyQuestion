{
 "cells": [
  {
   "cell_type": "markdown",
   "id": "ae890aaf",
   "metadata": {},
   "source": [
    "### **2327. Number of People Aware of a Secret**\n",
    "##### On day ```1```, one person discovers a secret.\n",
    "\n",
    "##### You are given an integer ```delay```, which means that each person will **share** the secret with a new person **every day**, starting from ```delay``` days after discovering the secret. You are also given an integer ```forget```, which means that each person will **forget** the secret ```forget``` days after discovering it. A person **cannot** share the secret on the same day they forgot it, or on any day afterwards.\n",
    "\n",
    "##### Given an integer ```n```, return *the number of people who know the secret at the end of the day* ```n```. Since the answer may be very large, return it **modulo** ```10^9 + 7```.\n",
    "\n",
    "<br>\n",
    "\n",
    "**Example 1:** <br>\n",
    "> **Input:** n = 6, delay = 2, forget = 4 <br>\n",
    "> **Output:** 5 <br>\n",
    "> **Explanation:** <br>\n",
    "> Day 1: Suppose the first person is named A. (1 person) <br>\n",
    "> Day 2: A is the only person who knows the secret. (1 person) <br>\n",
    "> Day 3: A shares the secret with a new person, B. (2 people) <br>\n",
    "> Day 4: A shares the secret with a new person, C. (3 people) <br>\n",
    "> Day 5: A forgets the secret, and B shares the secret with a new person, D. (3 people) <br>\n",
    "> Day 6: B shares the secret with E, and C shares the secret with F. (5 people)\n",
    "\n",
    "**Example 2:** <br>\n",
    "> **Input:** n = 4, delay = 1, forget = 3 <br>\n",
    "> **Output:** 6 <br>\n",
    "> **Explanation:** <br>\n",
    "> Day 1: The first person is named A. (1 person) <br>\n",
    "> Day 2: A shares the secret with B. (2 people) <br>\n",
    "> Day 3: A and B share the secret with 2 new people, C and D. (4 people) <br>\n",
    "> Day 4: A forgets the secret. B, C, and D share the secret with 3 new people. (6 people)\n",
    "\n",
    "<br>\n",
    "\n",
    "**Constraints:** <br>\n",
    "- ```2 <= n <= 1000```\n",
    "- ```1 <= delay < forget <= n```"
   ]
  },
  {
   "cell_type": "code",
   "execution_count": 2,
   "id": "5d562505",
   "metadata": {},
   "outputs": [
    {
     "name": "stdout",
     "output_type": "stream",
     "text": [
      "5\n",
      "6\n"
     ]
    }
   ],
   "source": [
    "from typing import List\n",
    "from collections import deque\n",
    "\n",
    "class Solution:\n",
    "    def peopleAwareOfSecret(self, n: int, delay: int, forget: int) -> int:\n",
    "        know, share = deque([(1, 1)]), deque([])\n",
    "        know_cnt, share_cnt = 1, 0\n",
    "        for i in range(2, n + 1):\n",
    "            if know and know[0][0] == i - delay:\n",
    "                know_cnt -= know[0][1]\n",
    "                share_cnt += know[0][1]\n",
    "                share.append(know[0])\n",
    "                know.popleft()\n",
    "            if share and share[0][0] == i - forget:\n",
    "                share_cnt -= share[0][1]\n",
    "                share.popleft()\n",
    "            if share:\n",
    "                know_cnt += share_cnt\n",
    "                know.append((i, share_cnt))\n",
    "        return (know_cnt + share_cnt) % (10**9 + 7)\n",
    "\n",
    "sol = Solution()\n",
    "print(sol.peopleAwareOfSecret(6, 2, 4))\n",
    "print(sol.peopleAwareOfSecret(4, 1, 3))"
   ]
  }
 ],
 "metadata": {
  "kernelspec": {
   "display_name": ".venv",
   "language": "python",
   "name": "python3"
  },
  "language_info": {
   "codemirror_mode": {
    "name": "ipython",
    "version": 3
   },
   "file_extension": ".py",
   "mimetype": "text/x-python",
   "name": "python",
   "nbconvert_exporter": "python",
   "pygments_lexer": "ipython3",
   "version": "3.13.7"
  }
 },
 "nbformat": 4,
 "nbformat_minor": 5
}
