{
 "cells": [
  {
   "cell_type": "markdown",
   "id": "7cb035e0",
   "metadata": {},
   "source": [
    "### **1912. Design Movie Rental System**"
   ]
  }
 ],
 "metadata": {
  "kernelspec": {
   "display_name": ".venv",
   "language": "python",
   "name": "python3"
  },
  "language_info": {
   "name": "python",
   "version": "3.13.7"
  }
 },
 "nbformat": 4,
 "nbformat_minor": 5
}
