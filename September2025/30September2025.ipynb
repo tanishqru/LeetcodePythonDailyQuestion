{
 "cells": [
  {
   "cell_type": "markdown",
   "id": "5ff095a4",
   "metadata": {},
   "source": [
    "### **2221. Find Triangular Sum of an Array**\n",
    "##### You are given a **0-indexed** integer array ```nums```, where ```nums[i]``` is a digit between ```0``` and ```9``` (**inclusive**)\n",
    "\n",
    "##### The **triangular sum** of **nums** is the value of the only element present in **nums** after the following process terminates:\n",
    "\n",
    "##### 1. Let ```nums``` comprise of ```n``` elements. If ```n == 1```, **end** the process. Otherwise, **create** a new **0-indexed** integer array ```newNums``` of length ```n - 1```.\n",
    "\n",
    "##### 2. For each index ```i```, where ```0 <= i < n - 1```, **assign** the value of ```newNums[i]``` as ```(nums[i] + nums[i+1]) % 10```, where ```%``` denotes modulo operator.\n",
    "\n",
    "##### 3. **Replace** the array ```nums``` with ```newNums```.\n",
    "\n",
    "##### 4. **Repeat** the entire process starting from step 1.\n",
    "\n",
    "##### Return *the triangular sum of* ```nums```.\n",
    "\n",
    "<br>\n",
    "\n",
    "**Example 1:**\n",
    "> **Input:** nums = [1,2,3,4,5] <br>\n",
    "> **Output:** 8 <br>\n",
    "> **Explanation:** <br>\n",
    "> The above diagram depicts the process from which we obtain the triangular sum of the array.\n",
    "\n",
    "**Example 2:**\n",
    "> **Input:** nums = [5] <br>\n",
    "> **Output:** 5 <br>\n",
    "> **Explanation:** <br>\n",
    "> Since there is only one element in nums, the triangular sum is the value of that element itself.\n",
    "\n",
    "<br>\n",
    "\n",
    "**Constraints:**\n",
    "- ```1 <= nums.length <= 1000```\n",
    "- ```0 <= nums[i] <= 9```"
   ]
  }
 ],
 "metadata": {
  "language_info": {
   "name": "python"
  }
 },
 "nbformat": 4,
 "nbformat_minor": 5
}
