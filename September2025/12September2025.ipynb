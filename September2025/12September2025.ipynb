{
 "cells": [
  {
   "cell_type": "markdown",
   "id": "16c367a4",
   "metadata": {},
   "source": [
    "### **3227. Vowels Game in a String**\n",
    "##### Alice and Bob are playing a game on a string.\n",
    "\n",
    "##### You are given a string `s`, Alice and Bob will take turns playing the following game where Alice starts **first**:\n",
    "\n",
    "##### • On Alice's turn, she has to remove any **non-empty substring** from `s` that contains an **odd** number of vowels.\n",
    "\n",
    "##### • On Bob's turn, he has to remove any **non-empty substring** from `s` that contains an **even** number of vowels.\n",
    "\n",
    "##### The first player who cannot make a move on their turn loses the game. We assume that both Alice and Bob play **optimally**.\n",
    "\n",
    "##### Return `true` if Alice wins the game, and `false` otherwise.\n",
    "\n",
    "##### The English vowels are: `a`, `e`, `i`, `o`, and `u`.\n",
    "\n",
    "<br>\n",
    "\n",
    "**Example 1:** <br>\n",
    "> **Input:** s = \"leetcoder\" <br>\n",
    "> **Output:** True <br>\n",
    "> **Explanation:** <br>\n",
    "> Alice can win the game as follows: <br>\n",
    "> - Alice plays first, she can delete the underlined substring in `s = \"leetcoder\"` which contains 3 vowels. The resulting string is `s = \"der\"`. <br>\n",
    "> - Bob plays second, he can delete the underlined substring in `s = \"der\"` which contains 0 vowels. The resulting string is `s = \"er\"`. <br>\n",
    "> - Alice plays third, she can delete the whole string `s = \"er\"` which contains 1 vowel. <br>\n",
    "> - Bob plays fourth, since the string is empty, there is no valid play for Bob. So Alice wins the game.\n",
    "\n",
    "**Example 2:**\n",
    "> **Input:** s = \"bbcd\" <br>\n",
    "> **Output:** False <br>\n",
    "> **Explanation:** <br>\n",
    "> There is no valid play for Alice in her first turn, so Alice loses the game.\n",
    "\n",
    "<br>\n",
    "\n",
    "**Constraints:**\n",
    "- `1 <= s.length <= 10^5`\n",
    "- `s` consists only of lowercase English letters."
   ]
  },
  {
   "cell_type": "code",
   "execution_count": null,
   "id": "ea9fc8e7",
   "metadata": {},
   "outputs": [
    {
     "name": "stdout",
     "output_type": "stream",
     "text": [
      "True\n",
      "False\n"
     ]
    }
   ],
   "source": [
    "# Code written in Python3\n",
    "\n",
    "class Solution:\n",
    "    def doesAliceWin(self, s: str) -> bool:\n",
    "        return any(c in \"aeiou\" for c in s)\n",
    "\n",
    "sol = Solution()\n",
    "print(sol.doesAliceWin(\"leetcoder\"))\n",
    "print(sol.doesAliceWin(\"bbcd\"))"
   ]
  }
 ],
 "metadata": {
  "kernelspec": {
   "display_name": ".venv",
   "language": "python",
   "name": "python3"
  },
  "language_info": {
   "codemirror_mode": {
    "name": "ipython",
    "version": 3
   },
   "file_extension": ".py",
   "mimetype": "text/x-python",
   "name": "python",
   "nbconvert_exporter": "python",
   "pygments_lexer": "ipython3",
   "version": "3.13.7"
  }
 },
 "nbformat": 4,
 "nbformat_minor": 5
}
