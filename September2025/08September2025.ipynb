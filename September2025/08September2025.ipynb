{
 "cells": [
  {
   "cell_type": "markdown",
   "id": "5ecbef1d",
   "metadata": {},
   "source": [
    "### **1317. Convert Integer to the Sum of Two Non-Zero Integers**\n",
    "##### **No-Zero Integer** is a positive integer that **does not contain any** ```0``` in its decimal representation.\n",
    "\n",
    "##### Given an integer ```n```, return *a list of two integers* ```[a, b]``` *where*:\n",
    "##### - ```a``` and ```b``` are **No-Zero Integers**\n",
    "##### - ```a + b = n```\n",
    "\n",
    "##### The test cases are generated so that there is at least one valid solution. If there are many valid solutions, you can return any one of them.\n",
    "\n",
    "<br>\n",
    "\n",
    "**Example 1:** <br>\n",
    "> **Input:** n = 2 <br>\n",
    "> **Output:** [1, 1] <br>\n",
    "> **Explanation:** Let a = 1 and b = 1. <br>\n",
    "> Both a and b are no-zero integers, and a + b = 2 = n.\n",
    "\n",
    "**Example 2:** <br>\n",
    "> **Input:** n = 11 <br>\n",
    "> **Output:** [2, 9] <br>\n",
    "> **Explanation:** Let a = 2 and b = 9. <br>\n",
    "> Both a and b are no-zero integers, and a + b = 11 = n. <br>\n",
    "> Note that there are other valid answers as [8, 3] that can be accepted.\n",
    "\n",
    "<br>\n",
    "\n",
    "**Constraints:**\n",
    "- ```2 <= n <= 10^4```\n"
   ]
  },
  {
   "cell_type": "code",
   "execution_count": 1,
   "id": "09716015",
   "metadata": {},
   "outputs": [
    {
     "name": "stdout",
     "output_type": "stream",
     "text": [
      "[1, 1]\n",
      "[2, 9]\n"
     ]
    }
   ],
   "source": [
    "from typing import List\n",
    "\n",
    "class Solution:\n",
    "    def getNoZeroIntegers(self, n: int) -> List[int]:\n",
    "        for a in range(1, n):\n",
    "            b = n - a\n",
    "            if '0' not in str(a) + str(b):\n",
    "                return [a, b]\n",
    "        return []\n",
    "\n",
    "sol = Solution()\n",
    "print(sol.getNoZeroIntegers(2))\n",
    "print(sol.getNoZeroIntegers(11))"
   ]
  }
 ],
 "metadata": {
  "kernelspec": {
   "display_name": ".venv",
   "language": "python",
   "name": "python3"
  },
  "language_info": {
   "codemirror_mode": {
    "name": "ipython",
    "version": 3
   },
   "file_extension": ".py",
   "mimetype": "text/x-python",
   "name": "python",
   "nbconvert_exporter": "python",
   "pygments_lexer": "ipython3",
   "version": "3.13.7"
  }
 },
 "nbformat": 4,
 "nbformat_minor": 5
}
