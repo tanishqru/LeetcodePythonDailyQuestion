{
 "cells": [
  {
   "cell_type": "markdown",
   "id": "d83d7cfd",
   "metadata": {},
   "source": [
    "### **2785. Sort Vowels in a String**\n",
    "##### Given a **0-indexed** string ```s```, **permute** ```s``` to get a new string ```t``` such that:\n",
    "\n",
    "##### - All consonants remain in their original places. More formally, if there is an index ```i``` with ```0 <= i < s.length``` such that ```s[i]``` is a consonant, then ```t[i] = s[i]```.\n",
    "##### - The vowels must be sorted in the **nondecreasing** order of their **ASCII** values. More formally, for pairs of indices ```i```, ```j``` with ```0 <= i < j < s.length``` such that ```s[i]``` and ```s[j]``` are vowels, then ```t[i]``` must not have a higher ASCII value than ```t[j]```.\n",
    "\n",
    "##### Return *the resulting string.*\n",
    "\n",
    "##### The vowels are ```'a'```, ```'e'```, ```'i'```, ```'o'```, and ```'u'```, and they can appear in lowercase or uppercase. Consonants comprise all letters that are not vowels.\n",
    "\n",
    "<br>\n",
    "\n",
    "**Example 1:** <br>\n",
    "> **Input:** s = \"lEetcOde\" <br>\n",
    "> **Output:** \"lEOtcede\" <br>\n",
    "> **Explanation:** 'E', 'O', and 'e' are the vowels in s; 'l', 't', 'c', and 'd' are all consonants. The vowels are sorted according to their ASCII values, and the consonants remain in the same places.\n",
    "\n",
    "**Example 2:** <br>\n",
    "> **Input:** s = \"lYmpH\" <br>\n",
    "> **Output:** \"lYmpH\" <br>\n",
    "> **Explanation:** There are no vowels in s (all characters in s are consonants), so we return \"lYmpH\".\n",
    "\n",
    "<br>\n",
    "\n",
    "**Constraints:**\n",
    "- ```1 <= s.length <= 10^5```\n",
    "- ```s``` consists only of letters of the English alphabet in **uppercase and lowercase**."
   ]
  },
  {
   "cell_type": "code",
   "execution_count": null,
   "id": "5b9a43e8",
   "metadata": {
    "vscode": {
     "languageId": "plaintext"
    }
   },
   "outputs": [],
   "source": [
    "// Code written in Java\n",
    "\n",
    "class Solution {\n",
    "    // Returns true if the character is a vowel.\n",
    "    boolean isVowel(Character c) {\n",
    "        return c == 'a' || c == 'e' || c == 'o'|| c == 'u'|| c == 'i' \n",
    "            || c == 'A' || c == 'E' || c == 'O'|| c == 'U'|| c == 'I';\n",
    "    }\n",
    "    \n",
    "    public String sortVowels(String s) {\n",
    "         ArrayList<Character> temp = new ArrayList<>();\n",
    "\n",
    "        // Store the vowels in the temporary string.\n",
    "        for (char c : s.toCharArray()) {\n",
    "            if (isVowel(c)) {\n",
    "                temp.add(c);\n",
    "            }\n",
    "        }\n",
    "        \n",
    "        // Sort the temporary string characters in ascending order.\n",
    "        Collections.sort(temp);\n",
    "\n",
    "        StringBuilder ans = new StringBuilder();\n",
    "        int j = 0;\n",
    "        for (int i = 0; i < s.length(); i++) {\n",
    "            // If the character is a vowel, replace it with the character in the string temp.\n",
    "            if (isVowel(s.charAt(i))) {\n",
    "                ans.append(temp.get(j));\n",
    "                j++;\n",
    "            } else {\n",
    "                ans.append(s.charAt(i));\n",
    "            }\n",
    "        }\n",
    "        \n",
    "        return ans.toString();\n",
    "    }\n",
    "};"
   ]
  }
 ],
 "metadata": {
  "language_info": {
   "name": "python"
  }
 },
 "nbformat": 4,
 "nbformat_minor": 5
}
