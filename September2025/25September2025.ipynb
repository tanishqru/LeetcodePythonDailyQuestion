{
 "cells": [
  {
   "cell_type": "markdown",
   "id": "5455a2f8",
   "metadata": {},
   "source": [
    "### **120. Traingle**"
   ]
  }
 ],
 "metadata": {
  "kernelspec": {
   "display_name": ".venv",
   "language": "python",
   "name": "python3"
  },
  "language_info": {
   "name": "python",
   "version": "3.13.7"
  }
 },
 "nbformat": 4,
 "nbformat_minor": 5
}
