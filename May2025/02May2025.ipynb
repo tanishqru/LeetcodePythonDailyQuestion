{
 "cells": [
  {
   "cell_type": "markdown",
   "id": "d08bbc42",
   "metadata": {},
   "source": [
    "### **838. Push Dominoes**\n",
    "##### There are ```n``` dominoes in a line, and we place each domino vertically upright. In the beginning, we simultaneously push some of the dominoes either to the left or to the right.\n",
    "\n",
    "##### After each second, each domino that is falling to the left pushes the adjacent domino on the left. Similarly, the dominoes falling to the right push their adjacent dominoes standing on the right.\n",
    "\n",
    "##### When a vertical domino has dominoes falling on it from both sides, it stays still due to the balance of the forces.\n",
    "\n",
    "##### For the purposes of this question, we will consider that a falling domino expends no additional force to a falling or already fallen domino.\n",
    "\n",
    "##### You are given a string ```dominoes``` representing the initial state where:\n",
    "##### - ```dominoes[i] = 'L'```, if the $i^{th}$ domino has been pushed to the left,\n",
    "##### - ```dominoes[i] = 'R'```, if the $i^{th}$ domino has been pushed to the right, and\n",
    "##### - ```dominoes[i] = '.'```, if the $i^{th}$ domino has not been pushed.\n",
    "\n",
    "##### Return *a string representing the final state*\n",
    "\n",
    "<br>\n",
    "\n",
    "**Example 1:** <br>\n",
    "> **Input:** dominoes = \"RR.L\" <br>\n",
    "> **Output:** \"RR.L\" <br>\n",
    "> **Explanation:** The first domino expends no additional force on the second domino.\n",
    "\n",
    "**Example 2:** <br>\n",
    "> **Input:** dominoes = \".L.R...LR..L..\" <br>\n",
    "> **Output:** \"LL.RR.LLRRLL..\"\n",
    "\n",
    "<br>\n",
    "\n",
    "**Constraints:**\n",
    "- ```n == dominoes.length```\n",
    "- ```1 <= n <= 10^5```\n",
    "- ```dominoes[i]``` is either ```'L'```, ```'R'```, or ```'.'```."
   ]
  },
  {
   "cell_type": "code",
   "execution_count": 1,
   "id": "bbbfcff7",
   "metadata": {},
   "outputs": [
    {
     "name": "stdout",
     "output_type": "stream",
     "text": [
      "RR.L\n",
      "LL.RR.LLRRLL..\n"
     ]
    }
   ],
   "source": [
    "class Solution:\n",
    "    def pushDominoes(self, dominoes: str) -> str:\n",
    "        n = len(dominoes)\n",
    "        forces = [0] * n\n",
    "\n",
    "        # Left to right pass\n",
    "        force = 0\n",
    "        for i in range(n):\n",
    "            if dominoes[i] == 'R':\n",
    "                force = n\n",
    "            elif dominoes[i] == 'L':\n",
    "                force = 0\n",
    "            else:\n",
    "                force = max(force - 1, 0)\n",
    "            forces[i] += force\n",
    "\n",
    "        # Right to left pass\n",
    "        force = 0\n",
    "        for i in range(n - 1, -1, -1):\n",
    "            if dominoes[i] == 'L':\n",
    "                force = n\n",
    "            elif dominoes[i] == 'R':\n",
    "                force = 0\n",
    "            else:\n",
    "                force = max(force - 1, 0)\n",
    "            forces[i] -= force\n",
    "\n",
    "        # Build result based on net force\n",
    "        result = []\n",
    "        for f in forces:\n",
    "            if f > 0:\n",
    "                result.append('R')\n",
    "            elif f < 0:\n",
    "                result.append('L')\n",
    "            else:\n",
    "                result.append('.')\n",
    "\n",
    "        return ''.join(result)\n",
    "\n",
    "sol = Solution()\n",
    "print(sol.pushDominoes(\"RR.L\"))\n",
    "print(sol.pushDominoes(\".L.R...LR..L..\"))"
   ]
  }
 ],
 "metadata": {
  "kernelspec": {
   "display_name": ".venv",
   "language": "python",
   "name": "python3"
  },
  "language_info": {
   "codemirror_mode": {
    "name": "ipython",
    "version": 3
   },
   "file_extension": ".py",
   "mimetype": "text/x-python",
   "name": "python",
   "nbconvert_exporter": "python",
   "pygments_lexer": "ipython3",
   "version": "3.13.7"
  }
 },
 "nbformat": 4,
 "nbformat_minor": 5
}
