{
 "cells": [
  {
   "cell_type": "markdown",
   "id": "84d5f513",
   "metadata": {},
   "source": [
    "### **1007. Minimum Domino Rotations For Equal Row**\n",
    "##### In a row of dominoes, ```tops[i]``` and ```bottoms[i]``` represent the top and bottom halves of the $i^{th}$ domino.  (A domino is a tile with two numbers from 1 to 6 - one on each half of the tile.)\n",
    "\n",
    "##### We may rotate the $i^{th}$ domino, so that ```tops[i]``` and ```bottoms[i]``` swap values.\n",
    "\n",
    "##### Return the minimum number of rotations so that all the values in ```tops``` are the same, or all the values in the ```bottoms``` are the same.\n",
    "\n",
    "##### If it cannot be done, return ```-1```.\n",
    "\n",
    "<br>\n",
    "\n",
    "**Example 1:** <br>\n",
    "> **Input:** tops = [2, 1, 2, 4, 2, 2], bottoms = [5, 2, 6, 2, 3, 2] <br>\n",
    "> **Output:** 2 <br>\n",
    "> **Explanation:** <br>\n",
    "> The first figure represents the dominoes as given by the tops and bottoms: before we do any rotations. <br>\n",
    "> If we rotate the second and the fourth dominoes, we can make every value in the top row equal to 2, as indicated by the second figure.\n",
    "\n",
    "**Example 2:** <br>\n",
    "> **Input:** tops = [3, 5, 1, 2, 3], bottoms = [3, 6, 3, 3, 4] <br>\n",
    "> **Output:** -1 <br>\n",
    "> **Explanation:** <br>\n",
    "> In this case, it is not possible to rotate the dominoes to make one row of values equal.\n",
    "\n",
    "<br>\n",
    "\n",
    "**Constraints:**\n",
    "- ```2 <= tops.length <= 2 * 10^4```\n",
    "- ```bottoms.length == tops.length```"
   ]
  },
  {
   "cell_type": "code",
   "execution_count": null,
   "id": "43b234f7",
   "metadata": {},
   "outputs": [
    {
     "name": "stdout",
     "output_type": "stream",
     "text": [
      "2\n",
      "-1\n"
     ]
    }
   ],
   "source": [
    "# Code written in Python3\n",
    "from typing import List\n",
    "\n",
    "class Solution:\n",
    "    def minDominoRotations(self, tops: List[int], bottoms: List[int]) -> int:\n",
    "        def check(x):\n",
    "            rotations_a = rotations_b = 0\n",
    "            for i in range(len(tops)):\n",
    "                if tops[i] != x and bottoms[i] != x:\n",
    "                    return -1\n",
    "                elif tops[i] != x:\n",
    "                    rotations_a += 1\n",
    "                elif bottoms[i] != x:\n",
    "                    rotations_b += 1\n",
    "            return min(rotations_a, rotations_b)\n",
    "\n",
    "        # Try using tops[0] or bottoms[0] as the target number\n",
    "        result = check(tops[0])\n",
    "        if result != -1 or tops[0] == bottoms[0]:\n",
    "            return result\n",
    "        else:\n",
    "            return check(bottoms[0])\n",
    "\n",
    "sol = Solution()\n",
    "print(sol.minDominoRotations([2, 1, 2, 4, 2, 2], [5, 2, 6, 2, 3, 2]))\n",
    "print(sol.minDominoRotations([3, 5, 1, 2, 3], [3, 6, 3, 3, 4]))"
   ]
  }
 ],
 "metadata": {
  "kernelspec": {
   "display_name": ".venv",
   "language": "python",
   "name": "python3"
  },
  "language_info": {
   "codemirror_mode": {
    "name": "ipython",
    "version": 3
   },
   "file_extension": ".py",
   "mimetype": "text/x-python",
   "name": "python",
   "nbconvert_exporter": "python",
   "pygments_lexer": "ipython3",
   "version": "3.13.7"
  }
 },
 "nbformat": 4,
 "nbformat_minor": 5
}
