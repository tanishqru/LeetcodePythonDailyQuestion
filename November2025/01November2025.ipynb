{
 "cells": [
  {
   "cell_type": "markdown",
   "id": "86589253",
   "metadata": {},
   "source": [
    "### **3217. Delete Nodes From Linked List Present in Array**"
   ]
  }
 ],
 "metadata": {
  "kernelspec": {
   "display_name": ".venv",
   "language": "python",
   "name": "python3"
  },
  "language_info": {
   "name": "python",
   "version": "3.13.7"
  }
 },
 "nbformat": 4,
 "nbformat_minor": 5
}
