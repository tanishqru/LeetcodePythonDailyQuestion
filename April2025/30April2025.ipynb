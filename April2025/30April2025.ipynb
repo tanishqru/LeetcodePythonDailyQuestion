{
 "cells": [
  {
   "cell_type": "markdown",
   "id": "9aa4c408",
   "metadata": {},
   "source": [
    "### **1295. Find Numbers with Even Number of Digits**\n",
    "##### Given an array ```nums``` of integers, return how many of them contain an ***even number*** of digits.\n",
    "\n",
    "<br>\n",
    "\n",
    "**Example 1:** <br>\n",
    "> **Input:** nums = [12, 345, 2, 6, 7896]<br>\n",
    "> **Output:** 2<br>\n",
    "> **Explanation:** <br>\n",
    "> 12 contains 2 digits (even number of digits).<br> \n",
    "> 345 contains 3 digits (odd number of digits). <br>\n",
    "> 2 contains 1 digit (odd number of digits). <br>\n",
    "> 6 contains 1 digit (odd number of digits). <br>\n",
    "> 7896 contains 4 digits (even number of digits). <br>\n",
    "> Therefore only 12 and 7896 contain an even number of digits.\n",
    "\n",
    "**Example 2:** <br>\n",
    "> **Input:** nums = [555, 901, 482, 1771]<br>\n",
    "> **Output:** 1 <br>\n",
    "> **Explanation:** <br>\n",
    "> Only 1771 contains an even number of digits.\n",
    "\n",
    "<br>\n",
    "\n",
    "**Constraints:**\n",
    "- ```1 <= nums.length <= 500```\n",
    "- ```1 <= nums[i] <= 105```"
   ]
  },
  {
   "cell_type": "code",
   "execution_count": 1,
   "id": "5a317451",
   "metadata": {},
   "outputs": [
    {
     "name": "stdout",
     "output_type": "stream",
     "text": [
      "2\n",
      "1\n"
     ]
    }
   ],
   "source": [
    "from typing import List\n",
    "\n",
    "class Solution:\n",
    "    def findNumbers(self, nums: List[int]) -> int:\n",
    "        count  = 0\n",
    "        for i in range(len(nums)):\n",
    "            if 9<nums[i]<100 or 999<nums[i]<10000 or 99999<nums[i]<1000000:\n",
    "                count+=1\n",
    "        return count\n",
    "    \n",
    "sol = Solution()\n",
    "print(sol.findNumbers([12,345,2,6,7896]))\n",
    "print(sol.findNumbers([555,901,482,1771]))"
   ]
  }
 ],
 "metadata": {
  "kernelspec": {
   "display_name": ".venv",
   "language": "python",
   "name": "python3"
  },
  "language_info": {
   "codemirror_mode": {
    "name": "ipython",
    "version": 3
   },
   "file_extension": ".py",
   "mimetype": "text/x-python",
   "name": "python",
   "nbconvert_exporter": "python",
   "pygments_lexer": "ipython3",
   "version": "3.13.7"
  }
 },
 "nbformat": 4,
 "nbformat_minor": 5
}
